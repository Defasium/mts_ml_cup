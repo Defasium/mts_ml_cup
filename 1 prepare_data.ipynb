{
 "cells": [
  {
   "cell_type": "markdown",
   "metadata": {},
   "source": [
    "## Импортирование библиотек"
   ]
  },
  {
   "cell_type": "code",
   "execution_count": 1,
   "metadata": {},
   "outputs": [],
   "source": [
    "import pandas as pd\n",
    "import numpy as np\n",
    "import os\n",
    "from tqdm.auto import tqdm\n",
    "from scipy.sparse import csr_matrix\n",
    "import gzip\n",
    "import pickle"
   ]
  },
  {
   "cell_type": "markdown",
   "metadata": {},
   "source": [
    "## Распаковка набора данных"
   ]
  },
  {
   "cell_type": "code",
   "execution_count": 3,
   "metadata": {},
   "outputs": [
    {
     "name": "stdout",
     "output_type": "stream",
     "text": [
      "Archive:  archive.zip\n",
      "  inflating: part-00000-aba60f69-2b63-4cc1-95ca-542598094698-c000.snappy.parquet  \n",
      "  inflating: part-00001-aba60f69-2b63-4cc1-95ca-542598094698-c000.snappy.parquet  \n",
      "  inflating: part-00002-aba60f69-2b63-4cc1-95ca-542598094698-c000.snappy.parquet  \n",
      "  inflating: part-00003-aba60f69-2b63-4cc1-95ca-542598094698-c000.snappy.parquet  \n",
      "  inflating: part-00004-aba60f69-2b63-4cc1-95ca-542598094698-c000.snappy.parquet  \n",
      "  inflating: part-00005-aba60f69-2b63-4cc1-95ca-542598094698-c000.snappy.parquet  \n",
      "  inflating: part-00006-aba60f69-2b63-4cc1-95ca-542598094698-c000.snappy.parquet  \n",
      "  inflating: part-00007-aba60f69-2b63-4cc1-95ca-542598094698-c000.snappy.parquet  \n",
      "  inflating: part-00008-aba60f69-2b63-4cc1-95ca-542598094698-c000.snappy.parquet  \n",
      "  inflating: part-00009-aba60f69-2b63-4cc1-95ca-542598094698-c000.snappy.parquet  \n",
      "  inflating: public_train.pqt        \n",
      "  inflating: sample_submit.csv       \n",
      "  inflating: submit_2.pqt            \n"
     ]
    }
   ],
   "source": [
    "!unzip archive.zip"
   ]
  },
  {
   "cell_type": "code",
   "execution_count": 3,
   "metadata": {},
   "outputs": [
    {
     "name": "stdout",
     "output_type": "stream",
     "text": [
      "archive.zip\r\n",
      "files\r\n",
      "part-00000-aba60f69-2b63-4cc1-95ca-542598094698-c000.snappy.parquet\r\n",
      "part-00001-aba60f69-2b63-4cc1-95ca-542598094698-c000.snappy.parquet\r\n",
      "part-00002-aba60f69-2b63-4cc1-95ca-542598094698-c000.snappy.parquet\r\n",
      "part-00003-aba60f69-2b63-4cc1-95ca-542598094698-c000.snappy.parquet\r\n",
      "part-00004-aba60f69-2b63-4cc1-95ca-542598094698-c000.snappy.parquet\r\n",
      "part-00005-aba60f69-2b63-4cc1-95ca-542598094698-c000.snappy.parquet\r\n",
      "part-00006-aba60f69-2b63-4cc1-95ca-542598094698-c000.snappy.parquet\r\n",
      "part-00007-aba60f69-2b63-4cc1-95ca-542598094698-c000.snappy.parquet\r\n",
      "part-00008-aba60f69-2b63-4cc1-95ca-542598094698-c000.snappy.parquet\r\n",
      "part-00009-aba60f69-2b63-4cc1-95ca-542598094698-c000.snappy.parquet\r\n",
      "prepare_data.ipynb\r\n",
      "public_train.pqt\r\n",
      "sample_submit.csv\r\n",
      "submit_2.pqt\r\n",
      "tmp.pickle.gz\r\n"
     ]
    }
   ],
   "source": [
    "!ls"
   ]
  },
  {
   "cell_type": "markdown",
   "metadata": {},
   "source": [
    "## Проверка числа уникальных значений в столбцах"
   ]
  },
  {
   "cell_type": "code",
   "execution_count": null,
   "metadata": {},
   "outputs": [],
   "source": [
    "colmaps = {}\n",
    "for file in tqdm([file for file in os.listdir('./') if file.startswith('part')]):\n",
    "    df = pd.read_parquet(file)\n",
    "    for col in tqdm(df.columns):\n",
    "        if col not in colmaps:\n",
    "            colmaps[col] = {}\n",
    "        for val in df[col].unique():\n",
    "            if val in colmaps[col]: continue\n",
    "            colmaps[col][val] = len(colmaps[col])"
   ]
  },
  {
   "cell_type": "code",
   "execution_count": 14,
   "metadata": {},
   "outputs": [
    {
     "name": "stdout",
     "output_type": "stream",
     "text": [
      "region_name 81\n",
      "city_name 985\n",
      "cpe_manufacturer_name 37\n",
      "cpe_model_name 599\n",
      "url_host 199683\n",
      "cpe_type_cd 4\n",
      "cpe_model_os_type 3\n",
      "price 29332\n",
      "date 396\n",
      "part_of_day 4\n",
      "request_cnt 15\n",
      "user_id 415317\n"
     ]
    }
   ],
   "source": [
    "for k, v in colmaps.items():\n",
    "    print(k, len(v))"
   ]
  },
  {
   "cell_type": "markdown",
   "metadata": {},
   "source": [
    "## Сохранение индексов уникальных признаков"
   ]
  },
  {
   "cell_type": "code",
   "execution_count": null,
   "metadata": {},
   "outputs": [],
   "source": [
    "os.makedirs('files', exists_ok=True)"
   ]
  },
  {
   "cell_type": "code",
   "execution_count": 23,
   "metadata": {},
   "outputs": [],
   "source": [
    "for k, v in colmaps.items():\n",
    "    pd.DataFrame({\n",
    "                  '%s_idx'%k: np.arange(len(v)),\n",
    "                  k: list(v.keys()),\n",
    "                 }).to_csv('files/%s_mapper.tsv.gz'%k,\n",
    "                           sep='\\t',\n",
    "                           index=False,\n",
    "                           encoding='utf-8',\n",
    "                           compression='gzip')"
   ]
  },
  {
   "cell_type": "markdown",
   "metadata": {},
   "source": [
    "## Переконвертация набора данных в индексы и pickle формат"
   ]
  },
  {
   "cell_type": "code",
   "execution_count": 4,
   "metadata": {},
   "outputs": [
    {
     "data": {
      "application/vnd.jupyter.widget-view+json": {
       "model_id": "8a3bf7fb6dce41ad8ea6ce4d7de504e9",
       "version_major": 2,
       "version_minor": 0
      },
      "text/plain": [
       "HBox(children=(IntProgress(value=0, max=10), HTML(value='')))"
      ]
     },
     "metadata": {},
     "output_type": "display_data"
    },
    {
     "data": {
      "application/vnd.jupyter.widget-view+json": {
       "model_id": "beac4b4603c546d6bf1f078b7191eec2",
       "version_major": 2,
       "version_minor": 0
      },
      "text/plain": [
       "HBox(children=(IntProgress(value=0, max=12), HTML(value='')))"
      ]
     },
     "metadata": {},
     "output_type": "display_data"
    },
    {
     "name": "stdout",
     "output_type": "stream",
     "text": [
      "\n"
     ]
    },
    {
     "data": {
      "application/vnd.jupyter.widget-view+json": {
       "model_id": "1bce32522fd04ef5b2710e6923fbff32",
       "version_major": 2,
       "version_minor": 0
      },
      "text/plain": [
       "HBox(children=(IntProgress(value=0, max=12), HTML(value='')))"
      ]
     },
     "metadata": {},
     "output_type": "display_data"
    },
    {
     "data": {
      "application/vnd.jupyter.widget-view+json": {
       "model_id": "d953800eb62841ce85be7f2349fb27eb",
       "version_major": 2,
       "version_minor": 0
      },
      "text/plain": [
       "HBox(children=(IntProgress(value=0, max=12), HTML(value='')))"
      ]
     },
     "metadata": {},
     "output_type": "display_data"
    },
    {
     "name": "stdout",
     "output_type": "stream",
     "text": [
      "\n"
     ]
    },
    {
     "data": {
      "application/vnd.jupyter.widget-view+json": {
       "model_id": "473be3d5e01b44878fe778e53ac81472",
       "version_major": 2,
       "version_minor": 0
      },
      "text/plain": [
       "HBox(children=(IntProgress(value=0, max=12), HTML(value='')))"
      ]
     },
     "metadata": {},
     "output_type": "display_data"
    },
    {
     "name": "stdout",
     "output_type": "stream",
     "text": [
      "\n"
     ]
    },
    {
     "data": {
      "application/vnd.jupyter.widget-view+json": {
       "model_id": "3b853a74974b4980bba186ed33d958f8",
       "version_major": 2,
       "version_minor": 0
      },
      "text/plain": [
       "HBox(children=(IntProgress(value=0, max=12), HTML(value='')))"
      ]
     },
     "metadata": {},
     "output_type": "display_data"
    },
    {
     "name": "stdout",
     "output_type": "stream",
     "text": [
      "\n"
     ]
    },
    {
     "data": {
      "application/vnd.jupyter.widget-view+json": {
       "model_id": "91d0fae8202746b4890e30c5e31ea4ad",
       "version_major": 2,
       "version_minor": 0
      },
      "text/plain": [
       "HBox(children=(IntProgress(value=0, max=12), HTML(value='')))"
      ]
     },
     "metadata": {},
     "output_type": "display_data"
    },
    {
     "name": "stdout",
     "output_type": "stream",
     "text": [
      "\n"
     ]
    },
    {
     "data": {
      "application/vnd.jupyter.widget-view+json": {
       "model_id": "1fe643f4f1bc4cb68316c625c9d5ac0d",
       "version_major": 2,
       "version_minor": 0
      },
      "text/plain": [
       "HBox(children=(IntProgress(value=0, max=12), HTML(value='')))"
      ]
     },
     "metadata": {},
     "output_type": "display_data"
    },
    {
     "name": "stdout",
     "output_type": "stream",
     "text": [
      "\n"
     ]
    },
    {
     "data": {
      "application/vnd.jupyter.widget-view+json": {
       "model_id": "46e0afcf3b1147dbbba7d044dba95463",
       "version_major": 2,
       "version_minor": 0
      },
      "text/plain": [
       "HBox(children=(IntProgress(value=0, max=12), HTML(value='')))"
      ]
     },
     "metadata": {},
     "output_type": "display_data"
    },
    {
     "name": "stdout",
     "output_type": "stream",
     "text": [
      "\n"
     ]
    },
    {
     "data": {
      "application/vnd.jupyter.widget-view+json": {
       "model_id": "9e5bba95b45d4a36a2b02d0a75b85fcc",
       "version_major": 2,
       "version_minor": 0
      },
      "text/plain": [
       "HBox(children=(IntProgress(value=0, max=12), HTML(value='')))"
      ]
     },
     "metadata": {},
     "output_type": "display_data"
    },
    {
     "name": "stdout",
     "output_type": "stream",
     "text": [
      "\n"
     ]
    },
    {
     "data": {
      "application/vnd.jupyter.widget-view+json": {
       "model_id": "2d244714c2034506902d66e60b3b2888",
       "version_major": 2,
       "version_minor": 0
      },
      "text/plain": [
       "HBox(children=(IntProgress(value=0, max=12), HTML(value='')))"
      ]
     },
     "metadata": {},
     "output_type": "display_data"
    },
    {
     "name": "stdout",
     "output_type": "stream",
     "text": [
      "\n",
      "\n",
      "CPU times: user 2h 39min 25s, sys: 23min 58s, total: 3h 3min 24s\n",
      "Wall time: 3h 1min 43s\n"
     ]
    }
   ],
   "source": [
    "%%time\n",
    "for file in tqdm([file for file in os.listdir('./') if file.startswith('part')]):\n",
    "    df = pd.read_parquet(file)\n",
    "    df2 = df.copy()\n",
    "    for col in tqdm(df.columns):\n",
    "        if col == 'user_id': continue\n",
    "        map_df = pd.read_csv('files/%s_mapper.tsv.gz'%col, sep='\\t', dtype=str)\n",
    "        df2[col] = df2[col].astype(str)\n",
    "        df2 = df2.merge(map_df, on=col, how='left').drop(col, axis=1)\n",
    "    df2 = df2.groupby('user_id').agg(list).reset_index()\n",
    "    df2.to_pickle('files/%s.pickle.gz'%file.split('.')[0])"
   ]
  },
  {
   "cell_type": "markdown",
   "metadata": {},
   "source": [
    "## Загрузка и объединение сконвертированных файлов в один"
   ]
  },
  {
   "cell_type": "code",
   "execution_count": null,
   "metadata": {
    "scrolled": true
   },
   "outputs": [
    {
     "data": {
      "application/vnd.jupyter.widget-view+json": {
       "model_id": "56ceef3bb8ba432692a65c87f9a06b46",
       "version_major": 2,
       "version_minor": 0
      },
      "text/plain": [
       "  0%|          | 0/10 [00:00<?, ?it/s]"
      ]
     },
     "metadata": {},
     "output_type": "display_data"
    }
   ],
   "source": [
    "%%time\n",
    "users = None\n",
    "for file in tqdm([file for file in os.listdir('./') if file.startswith('part')]):\n",
    "    if users is not None:\n",
    "        users = pd.concat([users,\n",
    "                           pd.read_pickle('files/%s.pickle.gz'%file.split('.')[0])]\n",
    "                         )\n",
    "    else:\n",
    "        users = pd.read_pickle('files/%s.pickle.gz'%file.split('.')[0])"
   ]
  },
  {
   "cell_type": "markdown",
   "metadata": {},
   "source": [
    "## Сброс индекса после конкатенации"
   ]
  },
  {
   "cell_type": "code",
   "execution_count": null,
   "metadata": {},
   "outputs": [],
   "source": [
    "users = users.reset_index(drop=True)"
   ]
  },
  {
   "cell_type": "markdown",
   "metadata": {},
   "source": [
    "## Считывание нужных мапок"
   ]
  },
  {
   "cell_type": "code",
   "execution_count": null,
   "metadata": {},
   "outputs": [],
   "source": [
    "# было неправильное понимание порядка дня утро-день-вечер-ночь\n",
    "# в files/part_of_day_mapper.tsv.gz\n",
    "# на самом деле верный порядок ночь-утро-день-вечер\n",
    "# поэтому захардкожено\n",
    "part_of_day_remap = [1, 2, 3, 0] \n",
    "request_cnt_remap = pd.read_csv('files/request_cnt_mapper.tsv.gz', sep='\\t').request_cnt.tolist()"
   ]
  },
  {
   "cell_type": "markdown",
   "metadata": {},
   "source": [
    "## Вывод набора данных"
   ]
  },
  {
   "cell_type": "code",
   "execution_count": 6,
   "metadata": {},
   "outputs": [
    {
     "data": {
      "text/html": [
       "<div>\n",
       "<style scoped>\n",
       "    .dataframe tbody tr th:only-of-type {\n",
       "        vertical-align: middle;\n",
       "    }\n",
       "\n",
       "    .dataframe tbody tr th {\n",
       "        vertical-align: top;\n",
       "    }\n",
       "\n",
       "    .dataframe thead th {\n",
       "        text-align: right;\n",
       "    }\n",
       "</style>\n",
       "<table border=\"1\" class=\"dataframe\">\n",
       "  <thead>\n",
       "    <tr style=\"text-align: right;\">\n",
       "      <th></th>\n",
       "      <th>user_id</th>\n",
       "      <th>region_name_idx</th>\n",
       "      <th>city_name_idx</th>\n",
       "      <th>cpe_manufacturer_name_idx</th>\n",
       "      <th>cpe_model_name_idx</th>\n",
       "      <th>url_host_idx</th>\n",
       "      <th>cpe_type_cd_idx</th>\n",
       "      <th>cpe_model_os_type_idx</th>\n",
       "      <th>price_idx</th>\n",
       "      <th>date_idx</th>\n",
       "      <th>part_of_day_idx</th>\n",
       "      <th>request_cnt_idx</th>\n",
       "    </tr>\n",
       "  </thead>\n",
       "  <tbody>\n",
       "    <tr>\n",
       "      <td>0</td>\n",
       "      <td>4</td>\n",
       "      <td>[0, 0, 0, 0, 0, 0, 21, 0, 0, 0, 0, 0, 0, 0, 0,...</td>\n",
       "      <td>[210, 210, 7, 210, 210, 210, 309, 210, 210, 21...</td>\n",
       "      <td>[3, 3, 3, 3, 3, 3, 3, 3, 3, 3, 3, 3, 3, 3, 3, ...</td>\n",
       "      <td>[222, 222, 222, 222, 222, 222, 222, 222, 222, ...</td>\n",
       "      <td>[3146, 20, 2, 24, 43, 18, 9, 4, 100, 4, 54, 13...</td>\n",
       "      <td>[0, 0, 0, 0, 0, 0, 0, 0, 0, 0, 0, 0, 0, 0, 0, ...</td>\n",
       "      <td>[1, 1, 1, 1, 1, 1, 1, 1, 1, 1, 1, 1, 1, 1, 1, ...</td>\n",
       "      <td>[80, 80, 80, 80, 80, 80, 80, 80, 80, 80, 80, 8...</td>\n",
       "      <td>[127, 127, 118, 134, 134, 221, 145, 127, 221, ...</td>\n",
       "      <td>[0, 2, 1, 2, 0, 1, 1, 2, 0, 0, 2, 0, 2, 1, 2, ...</td>\n",
       "      <td>[0, 0, 0, 0, 0, 0, 0, 2, 0, 1, 1, 2, 0, 0, 0, ...</td>\n",
       "    </tr>\n",
       "    <tr>\n",
       "      <td>1</td>\n",
       "      <td>16</td>\n",
       "      <td>[9, 9, 9, 9, 9, 9, 9, 9, 9, 9, 9, 9, 9, 9, 9, ...</td>\n",
       "      <td>[427, 427, 427, 427, 427, 427, 427, 427, 427, ...</td>\n",
       "      <td>[2, 2, 2, 2, 2, 2, 2, 2, 2, 2, 2, 2, 2, 2, 2, ...</td>\n",
       "      <td>[35, 35, 35, 35, 35, 35, 35, 35, 35, 35, 35, 3...</td>\n",
       "      <td>[2, 2, 125, 4, 136, 301, 100, 22, 2, 2, 113, 3...</td>\n",
       "      <td>[0, 0, 0, 0, 0, 0, 0, 0, 0, 0, 0, 0, 0, 0, 0, ...</td>\n",
       "      <td>[1, 1, 1, 1, 1, 1, 1, 1, 1, 1, 1, 1, 1, 1, 1, ...</td>\n",
       "      <td>[4048, 4048, 4048, 4048, 4048, 4048, 4048, 404...</td>\n",
       "      <td>[208, 147, 199, 144, 215, 137, 117, 147, 139, ...</td>\n",
       "      <td>[1, 1, 3, 0, 0, 1, 2, 0, 1, 0, 0, 0, 0, 1, 1, ...</td>\n",
       "      <td>[0, 0, 0, 1, 1, 0, 1, 2, 3, 0, 0, 5, 4, 0, 0, ...</td>\n",
       "    </tr>\n",
       "    <tr>\n",
       "      <td>2</td>\n",
       "      <td>18</td>\n",
       "      <td>[0, 0, 0, 0, 0, 0, 0, 0, 0, 0, 0, 0, 0, 0, 0, ...</td>\n",
       "      <td>[92, 92, 92, 92, 92, 92, 92, 92, 92, 92, 92, 9...</td>\n",
       "      <td>[2, 2, 2, 2, 2, 2, 2, 2, 2, 2, 2, 2, 2, 2, 2, ...</td>\n",
       "      <td>[28, 28, 28, 28, 28, 28, 28, 28, 28, 28, 28, 2...</td>\n",
       "      <td>[2, 2, 7, 135, 29, 29, 20, 20, 125, 9, 9, 10, ...</td>\n",
       "      <td>[0, 0, 0, 0, 0, 0, 0, 0, 0, 0, 0, 0, 0, 0, 0, ...</td>\n",
       "      <td>[1, 1, 1, 1, 1, 1, 1, 1, 1, 1, 1, 1, 1, 1, 1, ...</td>\n",
       "      <td>[1601, 1601, 1601, 1601, 1601, 1601, 1601, 160...</td>\n",
       "      <td>[131, 211, 225, 146, 215, 132, 199, 121, 146, ...</td>\n",
       "      <td>[0, 0, 1, 0, 0, 2, 1, 1, 1, 0, 1, 1, 1, 1, 0, ...</td>\n",
       "      <td>[2, 2, 0, 0, 3, 0, 4, 3, 4, 0, 0, 0, 0, 1, 0, ...</td>\n",
       "    </tr>\n",
       "    <tr>\n",
       "      <td>3</td>\n",
       "      <td>26</td>\n",
       "      <td>[3, 3, 3, 3, 3, 3, 3, 3, 3, 3, 3, 3, 3, 3, 3, ...</td>\n",
       "      <td>[5, 5, 5, 5, 5, 5, 5, 5, 5, 5, 5, 5, 5, 5, 5, ...</td>\n",
       "      <td>[2, 2, 2, 2, 2, 2, 2, 2, 2, 2, 2, 2, 2, 2, 2, ...</td>\n",
       "      <td>[186, 186, 186, 186, 186, 186, 186, 186, 186, ...</td>\n",
       "      <td>[13, 18, 128, 3, 103, 683, 137, 84, 29, 0, 2, ...</td>\n",
       "      <td>[0, 0, 0, 0, 0, 0, 0, 0, 0, 0, 0, 0, 0, 0, 0, ...</td>\n",
       "      <td>[1, 1, 1, 1, 1, 1, 1, 1, 1, 1, 1, 1, 1, 1, 1, ...</td>\n",
       "      <td>[1, 1, 1, 1, 1, 1, 1, 1, 1, 1, 1, 1, 1, 1, 1, ...</td>\n",
       "      <td>[206, 209, 206, 142, 226, 205, 206, 142, 200, ...</td>\n",
       "      <td>[2, 1, 0, 0, 2, 0, 0, 0, 1, 2, 0, 2, 3, 0, 2, ...</td>\n",
       "      <td>[0, 0, 0, 1, 0, 0, 0, 0, 1, 0, 0, 0, 0, 0, 0, ...</td>\n",
       "    </tr>\n",
       "    <tr>\n",
       "      <td>4</td>\n",
       "      <td>27</td>\n",
       "      <td>[6, 6, 6, 6, 6, 6, 6, 6, 6, 6, 6, 6, 6, 6, 6, ...</td>\n",
       "      <td>[9, 9, 9, 9, 9, 9, 9, 9, 9, 9, 9, 9, 9, 9, 9, ...</td>\n",
       "      <td>[1, 1, 1, 1, 1, 1, 1, 1, 1, 1, 1, 1, 1, 1, 1, ...</td>\n",
       "      <td>[49, 49, 49, 49, 49, 49, 49, 49, 49, 49, 49, 4...</td>\n",
       "      <td>[13, 2, 304, 4, 103, 11, 100, 58, 24, 29, 20, ...</td>\n",
       "      <td>[0, 0, 0, 0, 0, 0, 0, 0, 0, 0, 0, 0, 0, 0, 0, ...</td>\n",
       "      <td>[1, 1, 1, 1, 1, 1, 1, 1, 1, 1, 1, 1, 1, 1, 1, ...</td>\n",
       "      <td>[80, 80, 80, 80, 80, 80, 80, 80, 80, 80, 80, 8...</td>\n",
       "      <td>[203, 224, 197, 131, 136, 226, 137, 224, 212, ...</td>\n",
       "      <td>[2, 3, 1, 3, 0, 2, 1, 1, 0, 1, 1, 0, 2, 2, 1, ...</td>\n",
       "      <td>[3, 0, 0, 0, 0, 0, 1, 0, 0, 0, 0, 1, 1, 0, 0, ...</td>\n",
       "    </tr>\n",
       "    <tr>\n",
       "      <td>...</td>\n",
       "      <td>...</td>\n",
       "      <td>...</td>\n",
       "      <td>...</td>\n",
       "      <td>...</td>\n",
       "      <td>...</td>\n",
       "      <td>...</td>\n",
       "      <td>...</td>\n",
       "      <td>...</td>\n",
       "      <td>...</td>\n",
       "      <td>...</td>\n",
       "      <td>...</td>\n",
       "      <td>...</td>\n",
       "    </tr>\n",
       "    <tr>\n",
       "      <td>415312</td>\n",
       "      <td>415271</td>\n",
       "      <td>[24]</td>\n",
       "      <td>[49]</td>\n",
       "      <td>[2]</td>\n",
       "      <td>[136]</td>\n",
       "      <td>[59]</td>\n",
       "      <td>[0]</td>\n",
       "      <td>[1]</td>\n",
       "      <td>[100]</td>\n",
       "      <td>[127]</td>\n",
       "      <td>[1]</td>\n",
       "      <td>[0]</td>\n",
       "    </tr>\n",
       "    <tr>\n",
       "      <td>415313</td>\n",
       "      <td>415275</td>\n",
       "      <td>[28]</td>\n",
       "      <td>[54]</td>\n",
       "      <td>[0]</td>\n",
       "      <td>[78]</td>\n",
       "      <td>[1]</td>\n",
       "      <td>[0]</td>\n",
       "      <td>[0]</td>\n",
       "      <td>[949]</td>\n",
       "      <td>[209]</td>\n",
       "      <td>[3]</td>\n",
       "      <td>[0]</td>\n",
       "    </tr>\n",
       "    <tr>\n",
       "      <td>415314</td>\n",
       "      <td>415276</td>\n",
       "      <td>[27]</td>\n",
       "      <td>[65]</td>\n",
       "      <td>[1]</td>\n",
       "      <td>[177]</td>\n",
       "      <td>[3]</td>\n",
       "      <td>[0]</td>\n",
       "      <td>[1]</td>\n",
       "      <td>[720]</td>\n",
       "      <td>[124]</td>\n",
       "      <td>[0]</td>\n",
       "      <td>[0]</td>\n",
       "    </tr>\n",
       "    <tr>\n",
       "      <td>415315</td>\n",
       "      <td>415288</td>\n",
       "      <td>[65, 65, 65]</td>\n",
       "      <td>[294, 294, 294]</td>\n",
       "      <td>[2, 2, 2]</td>\n",
       "      <td>[232, 232, 232]</td>\n",
       "      <td>[20, 13, 3]</td>\n",
       "      <td>[0, 0, 0]</td>\n",
       "      <td>[1, 1, 1]</td>\n",
       "      <td>[2545, 2545, 2545]</td>\n",
       "      <td>[122, 135, 135]</td>\n",
       "      <td>[0, 2, 2]</td>\n",
       "      <td>[0, 0, 0]</td>\n",
       "    </tr>\n",
       "    <tr>\n",
       "      <td>415316</td>\n",
       "      <td>415293</td>\n",
       "      <td>[0]</td>\n",
       "      <td>[148]</td>\n",
       "      <td>[3]</td>\n",
       "      <td>[45]</td>\n",
       "      <td>[66]</td>\n",
       "      <td>[0]</td>\n",
       "      <td>[1]</td>\n",
       "      <td>[99]</td>\n",
       "      <td>[127]</td>\n",
       "      <td>[1]</td>\n",
       "      <td>[0]</td>\n",
       "    </tr>\n",
       "  </tbody>\n",
       "</table>\n",
       "<p>415317 rows × 12 columns</p>\n",
       "</div>"
      ],
      "text/plain": [
       "        user_id                                    region_name_idx  \\\n",
       "0             4  [0, 0, 0, 0, 0, 0, 21, 0, 0, 0, 0, 0, 0, 0, 0,...   \n",
       "1            16  [9, 9, 9, 9, 9, 9, 9, 9, 9, 9, 9, 9, 9, 9, 9, ...   \n",
       "2            18  [0, 0, 0, 0, 0, 0, 0, 0, 0, 0, 0, 0, 0, 0, 0, ...   \n",
       "3            26  [3, 3, 3, 3, 3, 3, 3, 3, 3, 3, 3, 3, 3, 3, 3, ...   \n",
       "4            27  [6, 6, 6, 6, 6, 6, 6, 6, 6, 6, 6, 6, 6, 6, 6, ...   \n",
       "...         ...                                                ...   \n",
       "415312   415271                                               [24]   \n",
       "415313   415275                                               [28]   \n",
       "415314   415276                                               [27]   \n",
       "415315   415288                                       [65, 65, 65]   \n",
       "415316   415293                                                [0]   \n",
       "\n",
       "                                            city_name_idx  \\\n",
       "0       [210, 210, 7, 210, 210, 210, 309, 210, 210, 21...   \n",
       "1       [427, 427, 427, 427, 427, 427, 427, 427, 427, ...   \n",
       "2       [92, 92, 92, 92, 92, 92, 92, 92, 92, 92, 92, 9...   \n",
       "3       [5, 5, 5, 5, 5, 5, 5, 5, 5, 5, 5, 5, 5, 5, 5, ...   \n",
       "4       [9, 9, 9, 9, 9, 9, 9, 9, 9, 9, 9, 9, 9, 9, 9, ...   \n",
       "...                                                   ...   \n",
       "415312                                               [49]   \n",
       "415313                                               [54]   \n",
       "415314                                               [65]   \n",
       "415315                                    [294, 294, 294]   \n",
       "415316                                              [148]   \n",
       "\n",
       "                                cpe_manufacturer_name_idx  \\\n",
       "0       [3, 3, 3, 3, 3, 3, 3, 3, 3, 3, 3, 3, 3, 3, 3, ...   \n",
       "1       [2, 2, 2, 2, 2, 2, 2, 2, 2, 2, 2, 2, 2, 2, 2, ...   \n",
       "2       [2, 2, 2, 2, 2, 2, 2, 2, 2, 2, 2, 2, 2, 2, 2, ...   \n",
       "3       [2, 2, 2, 2, 2, 2, 2, 2, 2, 2, 2, 2, 2, 2, 2, ...   \n",
       "4       [1, 1, 1, 1, 1, 1, 1, 1, 1, 1, 1, 1, 1, 1, 1, ...   \n",
       "...                                                   ...   \n",
       "415312                                                [2]   \n",
       "415313                                                [0]   \n",
       "415314                                                [1]   \n",
       "415315                                          [2, 2, 2]   \n",
       "415316                                                [3]   \n",
       "\n",
       "                                       cpe_model_name_idx  \\\n",
       "0       [222, 222, 222, 222, 222, 222, 222, 222, 222, ...   \n",
       "1       [35, 35, 35, 35, 35, 35, 35, 35, 35, 35, 35, 3...   \n",
       "2       [28, 28, 28, 28, 28, 28, 28, 28, 28, 28, 28, 2...   \n",
       "3       [186, 186, 186, 186, 186, 186, 186, 186, 186, ...   \n",
       "4       [49, 49, 49, 49, 49, 49, 49, 49, 49, 49, 49, 4...   \n",
       "...                                                   ...   \n",
       "415312                                              [136]   \n",
       "415313                                               [78]   \n",
       "415314                                              [177]   \n",
       "415315                                    [232, 232, 232]   \n",
       "415316                                               [45]   \n",
       "\n",
       "                                             url_host_idx  \\\n",
       "0       [3146, 20, 2, 24, 43, 18, 9, 4, 100, 4, 54, 13...   \n",
       "1       [2, 2, 125, 4, 136, 301, 100, 22, 2, 2, 113, 3...   \n",
       "2       [2, 2, 7, 135, 29, 29, 20, 20, 125, 9, 9, 10, ...   \n",
       "3       [13, 18, 128, 3, 103, 683, 137, 84, 29, 0, 2, ...   \n",
       "4       [13, 2, 304, 4, 103, 11, 100, 58, 24, 29, 20, ...   \n",
       "...                                                   ...   \n",
       "415312                                               [59]   \n",
       "415313                                                [1]   \n",
       "415314                                                [3]   \n",
       "415315                                        [20, 13, 3]   \n",
       "415316                                               [66]   \n",
       "\n",
       "                                          cpe_type_cd_idx  \\\n",
       "0       [0, 0, 0, 0, 0, 0, 0, 0, 0, 0, 0, 0, 0, 0, 0, ...   \n",
       "1       [0, 0, 0, 0, 0, 0, 0, 0, 0, 0, 0, 0, 0, 0, 0, ...   \n",
       "2       [0, 0, 0, 0, 0, 0, 0, 0, 0, 0, 0, 0, 0, 0, 0, ...   \n",
       "3       [0, 0, 0, 0, 0, 0, 0, 0, 0, 0, 0, 0, 0, 0, 0, ...   \n",
       "4       [0, 0, 0, 0, 0, 0, 0, 0, 0, 0, 0, 0, 0, 0, 0, ...   \n",
       "...                                                   ...   \n",
       "415312                                                [0]   \n",
       "415313                                                [0]   \n",
       "415314                                                [0]   \n",
       "415315                                          [0, 0, 0]   \n",
       "415316                                                [0]   \n",
       "\n",
       "                                    cpe_model_os_type_idx  \\\n",
       "0       [1, 1, 1, 1, 1, 1, 1, 1, 1, 1, 1, 1, 1, 1, 1, ...   \n",
       "1       [1, 1, 1, 1, 1, 1, 1, 1, 1, 1, 1, 1, 1, 1, 1, ...   \n",
       "2       [1, 1, 1, 1, 1, 1, 1, 1, 1, 1, 1, 1, 1, 1, 1, ...   \n",
       "3       [1, 1, 1, 1, 1, 1, 1, 1, 1, 1, 1, 1, 1, 1, 1, ...   \n",
       "4       [1, 1, 1, 1, 1, 1, 1, 1, 1, 1, 1, 1, 1, 1, 1, ...   \n",
       "...                                                   ...   \n",
       "415312                                                [1]   \n",
       "415313                                                [0]   \n",
       "415314                                                [1]   \n",
       "415315                                          [1, 1, 1]   \n",
       "415316                                                [1]   \n",
       "\n",
       "                                                price_idx  \\\n",
       "0       [80, 80, 80, 80, 80, 80, 80, 80, 80, 80, 80, 8...   \n",
       "1       [4048, 4048, 4048, 4048, 4048, 4048, 4048, 404...   \n",
       "2       [1601, 1601, 1601, 1601, 1601, 1601, 1601, 160...   \n",
       "3       [1, 1, 1, 1, 1, 1, 1, 1, 1, 1, 1, 1, 1, 1, 1, ...   \n",
       "4       [80, 80, 80, 80, 80, 80, 80, 80, 80, 80, 80, 8...   \n",
       "...                                                   ...   \n",
       "415312                                              [100]   \n",
       "415313                                              [949]   \n",
       "415314                                              [720]   \n",
       "415315                                 [2545, 2545, 2545]   \n",
       "415316                                               [99]   \n",
       "\n",
       "                                                 date_idx  \\\n",
       "0       [127, 127, 118, 134, 134, 221, 145, 127, 221, ...   \n",
       "1       [208, 147, 199, 144, 215, 137, 117, 147, 139, ...   \n",
       "2       [131, 211, 225, 146, 215, 132, 199, 121, 146, ...   \n",
       "3       [206, 209, 206, 142, 226, 205, 206, 142, 200, ...   \n",
       "4       [203, 224, 197, 131, 136, 226, 137, 224, 212, ...   \n",
       "...                                                   ...   \n",
       "415312                                              [127]   \n",
       "415313                                              [209]   \n",
       "415314                                              [124]   \n",
       "415315                                    [122, 135, 135]   \n",
       "415316                                              [127]   \n",
       "\n",
       "                                          part_of_day_idx  \\\n",
       "0       [0, 2, 1, 2, 0, 1, 1, 2, 0, 0, 2, 0, 2, 1, 2, ...   \n",
       "1       [1, 1, 3, 0, 0, 1, 2, 0, 1, 0, 0, 0, 0, 1, 1, ...   \n",
       "2       [0, 0, 1, 0, 0, 2, 1, 1, 1, 0, 1, 1, 1, 1, 0, ...   \n",
       "3       [2, 1, 0, 0, 2, 0, 0, 0, 1, 2, 0, 2, 3, 0, 2, ...   \n",
       "4       [2, 3, 1, 3, 0, 2, 1, 1, 0, 1, 1, 0, 2, 2, 1, ...   \n",
       "...                                                   ...   \n",
       "415312                                                [1]   \n",
       "415313                                                [3]   \n",
       "415314                                                [0]   \n",
       "415315                                          [0, 2, 2]   \n",
       "415316                                                [1]   \n",
       "\n",
       "                                          request_cnt_idx  \n",
       "0       [0, 0, 0, 0, 0, 0, 0, 2, 0, 1, 1, 2, 0, 0, 0, ...  \n",
       "1       [0, 0, 0, 1, 1, 0, 1, 2, 3, 0, 0, 5, 4, 0, 0, ...  \n",
       "2       [2, 2, 0, 0, 3, 0, 4, 3, 4, 0, 0, 0, 0, 1, 0, ...  \n",
       "3       [0, 0, 0, 1, 0, 0, 0, 0, 1, 0, 0, 0, 0, 0, 0, ...  \n",
       "4       [3, 0, 0, 0, 0, 0, 1, 0, 0, 0, 0, 1, 1, 0, 0, ...  \n",
       "...                                                   ...  \n",
       "415312                                                [0]  \n",
       "415313                                                [0]  \n",
       "415314                                                [0]  \n",
       "415315                                          [0, 0, 0]  \n",
       "415316                                                [0]  \n",
       "\n",
       "[415317 rows x 12 columns]"
      ]
     },
     "execution_count": 6,
     "metadata": {},
     "output_type": "execute_result"
    }
   ],
   "source": [
    "users"
   ]
  },
  {
   "cell_type": "markdown",
   "metadata": {},
   "source": [
    "## Считываение конвертора дат в правильные индексы "
   ]
  },
  {
   "cell_type": "code",
   "execution_count": null,
   "metadata": {},
   "outputs": [],
   "source": [
    "date_mapper = \\\n",
    "{k:i for i, k in enumerate(\n",
    "    pd.read_csv('files/date_mapper.tsv.gz', sep='\\t',\n",
    "            dtype=str).sort_values(by=['date'],\n",
    "                                   ascending=True).date_idx.values.copy()\n",
    ")}"
   ]
  },
  {
   "cell_type": "markdown",
   "metadata": {},
   "source": [
    "## Восстановление значений колонки request_cnt"
   ]
  },
  {
   "cell_type": "code",
   "execution_count": null,
   "metadata": {},
   "outputs": [],
   "source": [
    "%%time\n",
    "users['request_cnt'] = \\\n",
    "users.request_cnt_idx.apply(lambda x: [request_cnt_remap[int(xx)] for xx in x])"
   ]
  },
  {
   "cell_type": "markdown",
   "metadata": {},
   "source": [
    "## Проверка, что число значений в последовательности ссылок и кол-ва запросов совпадает"
   ]
  },
  {
   "cell_type": "code",
   "execution_count": null,
   "metadata": {},
   "outputs": [],
   "source": [
    "assert (users['request_cnt'].apply(len) == users['url_host_idx'].apply(len)).all()"
   ]
  },
  {
   "cell_type": "markdown",
   "metadata": {},
   "source": [
    "## Сохранение мешков слов с учётом request_cnt"
   ]
  },
  {
   "cell_type": "code",
   "execution_count": 25,
   "metadata": {},
   "outputs": [
    {
     "data": {
      "application/vnd.jupyter.widget-view+json": {
       "model_id": "7480cee33f3d40c491dfc880a42db3d2",
       "version_major": 2,
       "version_minor": 0
      },
      "text/plain": [
       "  0%|          | 0/9 [00:00<?, ?it/s]"
      ]
     },
     "metadata": {},
     "output_type": "display_data"
    },
    {
     "data": {
      "application/vnd.jupyter.widget-view+json": {
       "model_id": "c9aa563b4a6e4cd7be5dacd5d0c29605",
       "version_major": 2,
       "version_minor": 0
      },
      "text/plain": [
       "  0%|          | 0/415317 [00:00<?, ?it/s]"
      ]
     },
     "metadata": {},
     "output_type": "display_data"
    },
    {
     "data": {
      "application/vnd.jupyter.widget-view+json": {
       "model_id": "e49d018ba2c3472783e5af2b37bfb5ea",
       "version_major": 2,
       "version_minor": 0
      },
      "text/plain": [
       "  0%|          | 0/415317 [00:00<?, ?it/s]"
      ]
     },
     "metadata": {},
     "output_type": "display_data"
    },
    {
     "name": "stdout",
     "output_type": "stream",
     "text": [
      "322899435\n"
     ]
    },
    {
     "data": {
      "application/vnd.jupyter.widget-view+json": {
       "model_id": "c965f1d1214141c687a0a0469ee211dd",
       "version_major": 2,
       "version_minor": 0
      },
      "text/plain": [
       "  0%|          | 0/415317 [00:00<?, ?it/s]"
      ]
     },
     "metadata": {},
     "output_type": "display_data"
    },
    {
     "data": {
      "application/vnd.jupyter.widget-view+json": {
       "model_id": "178fe744a160448b91ee2047b8b1d0f3",
       "version_major": 2,
       "version_minor": 0
      },
      "text/plain": [
       "  0%|          | 0/415317 [00:00<?, ?it/s]"
      ]
     },
     "metadata": {},
     "output_type": "display_data"
    },
    {
     "name": "stdout",
     "output_type": "stream",
     "text": [
      "322899435\n"
     ]
    },
    {
     "data": {
      "application/vnd.jupyter.widget-view+json": {
       "model_id": "904b6d13b3734f4881e75c296e96c971",
       "version_major": 2,
       "version_minor": 0
      },
      "text/plain": [
       "  0%|          | 0/415317 [00:00<?, ?it/s]"
      ]
     },
     "metadata": {},
     "output_type": "display_data"
    },
    {
     "data": {
      "application/vnd.jupyter.widget-view+json": {
       "model_id": "43ac9c29f6b048dda2efdc0746cd6958",
       "version_major": 2,
       "version_minor": 0
      },
      "text/plain": [
       "  0%|          | 0/415317 [00:00<?, ?it/s]"
      ]
     },
     "metadata": {},
     "output_type": "display_data"
    },
    {
     "name": "stdout",
     "output_type": "stream",
     "text": [
      "322899435\n"
     ]
    },
    {
     "data": {
      "application/vnd.jupyter.widget-view+json": {
       "model_id": "f463628d3e2c41c594084ec8d6c36283",
       "version_major": 2,
       "version_minor": 0
      },
      "text/plain": [
       "  0%|          | 0/415317 [00:00<?, ?it/s]"
      ]
     },
     "metadata": {},
     "output_type": "display_data"
    },
    {
     "data": {
      "application/vnd.jupyter.widget-view+json": {
       "model_id": "60fb45d40a904aae8e207f5cd826a625",
       "version_major": 2,
       "version_minor": 0
      },
      "text/plain": [
       "  0%|          | 0/415317 [00:00<?, ?it/s]"
      ]
     },
     "metadata": {},
     "output_type": "display_data"
    },
    {
     "name": "stdout",
     "output_type": "stream",
     "text": [
      "322899435\n"
     ]
    },
    {
     "data": {
      "application/vnd.jupyter.widget-view+json": {
       "model_id": "73cea171bbaa48129c6cde08cb8670dd",
       "version_major": 2,
       "version_minor": 0
      },
      "text/plain": [
       "  0%|          | 0/415317 [00:00<?, ?it/s]"
      ]
     },
     "metadata": {},
     "output_type": "display_data"
    },
    {
     "data": {
      "application/vnd.jupyter.widget-view+json": {
       "model_id": "29f846793c4c4b0c8074d9f2a6314b09",
       "version_major": 2,
       "version_minor": 0
      },
      "text/plain": [
       "  0%|          | 0/415317 [00:00<?, ?it/s]"
      ]
     },
     "metadata": {},
     "output_type": "display_data"
    },
    {
     "name": "stdout",
     "output_type": "stream",
     "text": [
      "322899435\n"
     ]
    },
    {
     "data": {
      "application/vnd.jupyter.widget-view+json": {
       "model_id": "216183e0247148fca861e9a111fb5344",
       "version_major": 2,
       "version_minor": 0
      },
      "text/plain": [
       "  0%|          | 0/415317 [00:00<?, ?it/s]"
      ]
     },
     "metadata": {},
     "output_type": "display_data"
    },
    {
     "data": {
      "application/vnd.jupyter.widget-view+json": {
       "model_id": "f1bb2d5ec82c4c7d87418cab1f90b48d",
       "version_major": 2,
       "version_minor": 0
      },
      "text/plain": [
       "  0%|          | 0/415317 [00:00<?, ?it/s]"
      ]
     },
     "metadata": {},
     "output_type": "display_data"
    },
    {
     "name": "stdout",
     "output_type": "stream",
     "text": [
      "322899435\n"
     ]
    },
    {
     "data": {
      "application/vnd.jupyter.widget-view+json": {
       "model_id": "4307aed4ef69426ca17202da4eeaec77",
       "version_major": 2,
       "version_minor": 0
      },
      "text/plain": [
       "  0%|          | 0/415317 [00:00<?, ?it/s]"
      ]
     },
     "metadata": {},
     "output_type": "display_data"
    },
    {
     "data": {
      "application/vnd.jupyter.widget-view+json": {
       "model_id": "1d3bcf5fe12a4846aa1c8d4eb51a55fb",
       "version_major": 2,
       "version_minor": 0
      },
      "text/plain": [
       "  0%|          | 0/415317 [00:00<?, ?it/s]"
      ]
     },
     "metadata": {},
     "output_type": "display_data"
    },
    {
     "name": "stdout",
     "output_type": "stream",
     "text": [
      "322899435\n"
     ]
    },
    {
     "data": {
      "application/vnd.jupyter.widget-view+json": {
       "model_id": "fb8fc58fd860466cb7b6a2fd42e37ee6",
       "version_major": 2,
       "version_minor": 0
      },
      "text/plain": [
       "  0%|          | 0/415317 [00:00<?, ?it/s]"
      ]
     },
     "metadata": {},
     "output_type": "display_data"
    },
    {
     "data": {
      "application/vnd.jupyter.widget-view+json": {
       "model_id": "56162d1ba7f44d1796a8d1cb5b0cca32",
       "version_major": 2,
       "version_minor": 0
      },
      "text/plain": [
       "  0%|          | 0/415317 [00:00<?, ?it/s]"
      ]
     },
     "metadata": {},
     "output_type": "display_data"
    },
    {
     "name": "stdout",
     "output_type": "stream",
     "text": [
      "322899435\n"
     ]
    },
    {
     "data": {
      "application/vnd.jupyter.widget-view+json": {
       "model_id": "bd9fdf4804f646e88b0772030aa20ab2",
       "version_major": 2,
       "version_minor": 0
      },
      "text/plain": [
       "  0%|          | 0/415317 [00:00<?, ?it/s]"
      ]
     },
     "metadata": {},
     "output_type": "display_data"
    },
    {
     "data": {
      "application/vnd.jupyter.widget-view+json": {
       "model_id": "f7528105420b4ccead13b3dee540073d",
       "version_major": 2,
       "version_minor": 0
      },
      "text/plain": [
       "  0%|          | 0/415317 [00:00<?, ?it/s]"
      ]
     },
     "metadata": {},
     "output_type": "display_data"
    },
    {
     "name": "stdout",
     "output_type": "stream",
     "text": [
      "322899435\n"
     ]
    }
   ],
   "source": [
    "\n",
    "\n",
    "def fillna(row):\n",
    "    vals = np.array(row, dtype='<U')\n",
    "    mask = vals == 'nan'\n",
    "    vals[mask] = '-1'\n",
    "    vals = vals.astype(int)\n",
    "    pbar.update(1)\n",
    "    return list(vals)\n",
    "\n",
    "uids = users.user_id.values.copy()\n",
    "cnts = users['request_cnt'].values.copy()\n",
    "for col in tqdm(\n",
    "            ['region_name_idx', 'city_name_idx',\n",
    "             'cpe_manufacturer_name_idx', 'cpe_model_name_idx',\n",
    "             'cpe_type_cd_idx', 'cpe_model_os_type_idx', 'price_idx',\n",
    "             'date_idx', 'part_of_day_idx']\n",
    "    ):\n",
    "    pbar = tqdm(total=users.shape[0])\n",
    "    vals = users[col].apply(fillna)\n",
    "\n",
    "    max_val = vals.apply(max).max()+1\n",
    "\n",
    "    indices = []\n",
    "    jindices = []\n",
    "    data = []\n",
    "\n",
    "    for i, row in enumerate(tqdm(vals)):\n",
    "        inds = zip([(xx if xx>=0 else max_val) for xx in row], cnts[i])\n",
    "        inds = sorted(inds, key=lambda x: x[0])\n",
    "        indices.extend([i]*len(row))\n",
    "        jindices.extend(list(map(lambda x: x[0], inds)))\n",
    "        data.extend(list(map(lambda x: x[1], inds)))\n",
    "\n",
    "    print(len(indices))\n",
    "    # csr_matrix автоматом просуммирует значение дубликатов по i, j в одно\n",
    "    XX = \\\n",
    "    csr_matrix((data, (indices, jindices)),\n",
    "               shape=(users.shape[0], max_val+1),\n",
    "               dtype=np.uint32)\n",
    "\n",
    "    with gzip.open('files/%s_cbag_v2.pickle.gz'%(col.split('_idx')[0]), 'wb') as f:\n",
    "        pickle.dump(dict(data=XX, uids=uids), f, protocol=-1)"
   ]
  },
  {
   "cell_type": "markdown",
   "metadata": {},
   "source": [
    "## Восстановление упорядоченных индексов для дат и времени суток"
   ]
  },
  {
   "cell_type": "code",
   "execution_count": null,
   "metadata": {
    "scrolled": true
   },
   "outputs": [],
   "source": [
    "%%time\n",
    "users['date_ordered_idx'] = users.date_idx.apply(lambda x: [date_mapper[xx] for xx in x])\n",
    "users['part_ordered_idx'] = users.part_of_day_idx.apply(lambda x: [part_of_day_remap[int(xx)] for xx in x])\n",
    "users"
   ]
  },
  {
   "cell_type": "markdown",
   "metadata": {},
   "source": [
    "## Получение одной колонки со временем"
   ]
  },
  {
   "cell_type": "code",
   "execution_count": null,
   "metadata": {},
   "outputs": [],
   "source": [
    "%%time\n",
    "users['date_sorting_val'] = users.apply(lambda row: [x*10+y for x,y in \n",
    "                                                     zip(row.date_ordered_idx,\n",
    "                                                         row.part_ordered_idx)\n",
    "                                                    ], axis=1)\n",
    "users"
   ]
  },
  {
   "cell_type": "markdown",
   "metadata": {},
   "source": [
    "## Получение правильного упорядочивания элементов последовательностей по дате"
   ]
  },
  {
   "cell_type": "code",
   "execution_count": null,
   "metadata": {},
   "outputs": [],
   "source": [
    "%%time\n",
    "users['reindex'] = users.date_sorting_val.apply(lambda x: list(np.argsort(x)))\n",
    "users.head(10)"
   ]
  },
  {
   "cell_type": "markdown",
   "metadata": {},
   "source": [
    "## Сохранение последовательностей в виде текстовых файлов"
   ]
  },
  {
   "cell_type": "code",
   "execution_count": 57,
   "metadata": {},
   "outputs": [
    {
     "data": {
      "application/vnd.jupyter.widget-view+json": {
       "model_id": "06c816a6f10741efbc90df53645b4f6c",
       "version_major": 2,
       "version_minor": 0
      },
      "text/plain": [
       "  0%|          | 0/10 [00:00<?, ?it/s]"
      ]
     },
     "metadata": {},
     "output_type": "display_data"
    },
    {
     "data": {
      "application/vnd.jupyter.widget-view+json": {
       "model_id": "ee352d52294544979f600da3b508efcd",
       "version_major": 2,
       "version_minor": 0
      },
      "text/plain": [
       "  0%|          | 0/415317 [00:00<?, ?it/s]"
      ]
     },
     "metadata": {},
     "output_type": "display_data"
    },
    {
     "data": {
      "application/vnd.jupyter.widget-view+json": {
       "model_id": "ebd0d7576f834796b8c86566a5be2286",
       "version_major": 2,
       "version_minor": 0
      },
      "text/plain": [
       "  0%|          | 0/415317 [00:00<?, ?it/s]"
      ]
     },
     "metadata": {},
     "output_type": "display_data"
    },
    {
     "data": {
      "application/vnd.jupyter.widget-view+json": {
       "model_id": "e93777d52e7d4e22b3413f134aebb85a",
       "version_major": 2,
       "version_minor": 0
      },
      "text/plain": [
       "  0%|          | 0/415317 [00:00<?, ?it/s]"
      ]
     },
     "metadata": {},
     "output_type": "display_data"
    },
    {
     "data": {
      "application/vnd.jupyter.widget-view+json": {
       "model_id": "a4b98cc516714521b4fe1c07b7f56e49",
       "version_major": 2,
       "version_minor": 0
      },
      "text/plain": [
       "  0%|          | 0/415317 [00:00<?, ?it/s]"
      ]
     },
     "metadata": {},
     "output_type": "display_data"
    },
    {
     "name": "stderr",
     "output_type": "stream",
     "text": [
      "IOPub message rate exceeded.\n",
      "The notebook server will temporarily stop sending output\n",
      "to the client in order to avoid crashing it.\n",
      "To change this limit, set the config variable\n",
      "`--NotebookApp.iopub_msg_rate_limit`.\n",
      "\n",
      "Current values:\n",
      "NotebookApp.iopub_msg_rate_limit=1000.0 (msgs/sec)\n",
      "NotebookApp.rate_limit_window=3.0 (secs)\n",
      "\n",
      "IOPub message rate exceeded.\n",
      "The notebook server will temporarily stop sending output\n",
      "to the client in order to avoid crashing it.\n",
      "To change this limit, set the config variable\n",
      "`--NotebookApp.iopub_msg_rate_limit`.\n",
      "\n",
      "Current values:\n",
      "NotebookApp.iopub_msg_rate_limit=1000.0 (msgs/sec)\n",
      "NotebookApp.rate_limit_window=3.0 (secs)\n",
      "\n",
      "IOPub message rate exceeded.\n",
      "The notebook server will temporarily stop sending output\n",
      "to the client in order to avoid crashing it.\n",
      "To change this limit, set the config variable\n",
      "`--NotebookApp.iopub_msg_rate_limit`.\n",
      "\n",
      "Current values:\n",
      "NotebookApp.iopub_msg_rate_limit=1000.0 (msgs/sec)\n",
      "NotebookApp.rate_limit_window=3.0 (secs)\n",
      "\n"
     ]
    },
    {
     "data": {
      "application/vnd.jupyter.widget-view+json": {
       "model_id": "6fa65b826db94757bab35ba135bb7ed6",
       "version_major": 2,
       "version_minor": 0
      },
      "text/plain": [
       "  0%|          | 0/415317 [00:00<?, ?it/s]"
      ]
     },
     "metadata": {},
     "output_type": "display_data"
    },
    {
     "data": {
      "application/vnd.jupyter.widget-view+json": {
       "model_id": "d81423b39f5041c38b4fafe59e7ac726",
       "version_major": 2,
       "version_minor": 0
      },
      "text/plain": [
       "  0%|          | 0/415317 [00:00<?, ?it/s]"
      ]
     },
     "metadata": {},
     "output_type": "display_data"
    },
    {
     "name": "stderr",
     "output_type": "stream",
     "text": [
      "IOPub message rate exceeded.\n",
      "The notebook server will temporarily stop sending output\n",
      "to the client in order to avoid crashing it.\n",
      "To change this limit, set the config variable\n",
      "`--NotebookApp.iopub_msg_rate_limit`.\n",
      "\n",
      "Current values:\n",
      "NotebookApp.iopub_msg_rate_limit=1000.0 (msgs/sec)\n",
      "NotebookApp.rate_limit_window=3.0 (secs)\n",
      "\n",
      "IOPub message rate exceeded.\n",
      "The notebook server will temporarily stop sending output\n",
      "to the client in order to avoid crashing it.\n",
      "To change this limit, set the config variable\n",
      "`--NotebookApp.iopub_msg_rate_limit`.\n",
      "\n",
      "Current values:\n",
      "NotebookApp.iopub_msg_rate_limit=1000.0 (msgs/sec)\n",
      "NotebookApp.rate_limit_window=3.0 (secs)\n",
      "\n"
     ]
    },
    {
     "data": {
      "application/vnd.jupyter.widget-view+json": {
       "model_id": "8f057cfef0414eb3b5d2da057cf56959",
       "version_major": 2,
       "version_minor": 0
      },
      "text/plain": [
       "  0%|          | 0/415317 [00:00<?, ?it/s]"
      ]
     },
     "metadata": {},
     "output_type": "display_data"
    },
    {
     "name": "stderr",
     "output_type": "stream",
     "text": [
      "IOPub message rate exceeded.\n",
      "The notebook server will temporarily stop sending output\n",
      "to the client in order to avoid crashing it.\n",
      "To change this limit, set the config variable\n",
      "`--NotebookApp.iopub_msg_rate_limit`.\n",
      "\n",
      "Current values:\n",
      "NotebookApp.iopub_msg_rate_limit=1000.0 (msgs/sec)\n",
      "NotebookApp.rate_limit_window=3.0 (secs)\n",
      "\n",
      "IOPub message rate exceeded.\n",
      "The notebook server will temporarily stop sending output\n",
      "to the client in order to avoid crashing it.\n",
      "To change this limit, set the config variable\n",
      "`--NotebookApp.iopub_msg_rate_limit`.\n",
      "\n",
      "Current values:\n",
      "NotebookApp.iopub_msg_rate_limit=1000.0 (msgs/sec)\n",
      "NotebookApp.rate_limit_window=3.0 (secs)\n",
      "\n"
     ]
    },
    {
     "data": {
      "application/vnd.jupyter.widget-view+json": {
       "model_id": "2dbfdcf42cef48f58af654ed323215db",
       "version_major": 2,
       "version_minor": 0
      },
      "text/plain": [
       "  0%|          | 0/415317 [00:00<?, ?it/s]"
      ]
     },
     "metadata": {},
     "output_type": "display_data"
    },
    {
     "data": {
      "application/vnd.jupyter.widget-view+json": {
       "model_id": "fc3e9f6c0e954a88967990ae509ad25a",
       "version_major": 2,
       "version_minor": 0
      },
      "text/plain": [
       "  0%|          | 0/415317 [00:00<?, ?it/s]"
      ]
     },
     "metadata": {},
     "output_type": "display_data"
    },
    {
     "name": "stderr",
     "output_type": "stream",
     "text": [
      "IOPub message rate exceeded.\n",
      "The notebook server will temporarily stop sending output\n",
      "to the client in order to avoid crashing it.\n",
      "To change this limit, set the config variable\n",
      "`--NotebookApp.iopub_msg_rate_limit`.\n",
      "\n",
      "Current values:\n",
      "NotebookApp.iopub_msg_rate_limit=1000.0 (msgs/sec)\n",
      "NotebookApp.rate_limit_window=3.0 (secs)\n",
      "\n"
     ]
    },
    {
     "data": {
      "application/vnd.jupyter.widget-view+json": {
       "model_id": "7c173d6fc7c249278bc5e56fd1100f28",
       "version_major": 2,
       "version_minor": 0
      },
      "text/plain": [
       "  0%|          | 0/415317 [00:00<?, ?it/s]"
      ]
     },
     "metadata": {},
     "output_type": "display_data"
    },
    {
     "name": "stderr",
     "output_type": "stream",
     "text": [
      "IOPub message rate exceeded.\n",
      "The notebook server will temporarily stop sending output\n",
      "to the client in order to avoid crashing it.\n",
      "To change this limit, set the config variable\n",
      "`--NotebookApp.iopub_msg_rate_limit`.\n",
      "\n",
      "Current values:\n",
      "NotebookApp.iopub_msg_rate_limit=1000.0 (msgs/sec)\n",
      "NotebookApp.rate_limit_window=3.0 (secs)\n",
      "\n"
     ]
    },
    {
     "data": {
      "application/vnd.jupyter.widget-view+json": {
       "model_id": "4a055885f57647e48ffa53f1f3cbba14",
       "version_major": 2,
       "version_minor": 0
      },
      "text/plain": [
       "  0%|          | 0/415317 [00:00<?, ?it/s]"
      ]
     },
     "metadata": {},
     "output_type": "display_data"
    },
    {
     "name": "stderr",
     "output_type": "stream",
     "text": [
      "IOPub message rate exceeded.\n",
      "The notebook server will temporarily stop sending output\n",
      "to the client in order to avoid crashing it.\n",
      "To change this limit, set the config variable\n",
      "`--NotebookApp.iopub_msg_rate_limit`.\n",
      "\n",
      "Current values:\n",
      "NotebookApp.iopub_msg_rate_limit=1000.0 (msgs/sec)\n",
      "NotebookApp.rate_limit_window=3.0 (secs)\n",
      "\n",
      "IOPub message rate exceeded.\n",
      "The notebook server will temporarily stop sending output\n",
      "to the client in order to avoid crashing it.\n",
      "To change this limit, set the config variable\n",
      "`--NotebookApp.iopub_msg_rate_limit`.\n",
      "\n",
      "Current values:\n",
      "NotebookApp.iopub_msg_rate_limit=1000.0 (msgs/sec)\n",
      "NotebookApp.rate_limit_window=3.0 (secs)\n",
      "\n",
      "IOPub message rate exceeded.\n",
      "The notebook server will temporarily stop sending output\n",
      "to the client in order to avoid crashing it.\n",
      "To change this limit, set the config variable\n",
      "`--NotebookApp.iopub_msg_rate_limit`.\n",
      "\n",
      "Current values:\n",
      "NotebookApp.iopub_msg_rate_limit=1000.0 (msgs/sec)\n",
      "NotebookApp.rate_limit_window=3.0 (secs)\n",
      "\n"
     ]
    },
    {
     "data": {
      "application/vnd.jupyter.widget-view+json": {
       "model_id": "2a5022a8503a479e8daf24296c4d5308",
       "version_major": 2,
       "version_minor": 0
      },
      "text/plain": [
       "  0%|          | 0/415317 [00:00<?, ?it/s]"
      ]
     },
     "metadata": {},
     "output_type": "display_data"
    },
    {
     "name": "stderr",
     "output_type": "stream",
     "text": [
      "IOPub message rate exceeded.\n",
      "The notebook server will temporarily stop sending output\n",
      "to the client in order to avoid crashing it.\n",
      "To change this limit, set the config variable\n",
      "`--NotebookApp.iopub_msg_rate_limit`.\n",
      "\n",
      "Current values:\n",
      "NotebookApp.iopub_msg_rate_limit=1000.0 (msgs/sec)\n",
      "NotebookApp.rate_limit_window=3.0 (secs)\n",
      "\n",
      "IOPub message rate exceeded.\n",
      "The notebook server will temporarily stop sending output\n",
      "to the client in order to avoid crashing it.\n",
      "To change this limit, set the config variable\n",
      "`--NotebookApp.iopub_msg_rate_limit`.\n",
      "\n",
      "Current values:\n",
      "NotebookApp.iopub_msg_rate_limit=1000.0 (msgs/sec)\n",
      "NotebookApp.rate_limit_window=3.0 (secs)\n",
      "\n"
     ]
    },
    {
     "data": {
      "application/vnd.jupyter.widget-view+json": {
       "model_id": "7d1ce69e5773463390640991b9b9e4a1",
       "version_major": 2,
       "version_minor": 0
      },
      "text/plain": [
       "  0%|          | 0/415317 [00:00<?, ?it/s]"
      ]
     },
     "metadata": {},
     "output_type": "display_data"
    },
    {
     "name": "stderr",
     "output_type": "stream",
     "text": [
      "IOPub message rate exceeded.\n",
      "The notebook server will temporarily stop sending output\n",
      "to the client in order to avoid crashing it.\n",
      "To change this limit, set the config variable\n",
      "`--NotebookApp.iopub_msg_rate_limit`.\n",
      "\n",
      "Current values:\n",
      "NotebookApp.iopub_msg_rate_limit=1000.0 (msgs/sec)\n",
      "NotebookApp.rate_limit_window=3.0 (secs)\n",
      "\n"
     ]
    },
    {
     "data": {
      "application/vnd.jupyter.widget-view+json": {
       "model_id": "20402fe4bed24bcb8676f31ce6619b23",
       "version_major": 2,
       "version_minor": 0
      },
      "text/plain": [
       "  0%|          | 0/415317 [00:00<?, ?it/s]"
      ]
     },
     "metadata": {},
     "output_type": "display_data"
    },
    {
     "name": "stderr",
     "output_type": "stream",
     "text": [
      "IOPub message rate exceeded.\n",
      "The notebook server will temporarily stop sending output\n",
      "to the client in order to avoid crashing it.\n",
      "To change this limit, set the config variable\n",
      "`--NotebookApp.iopub_msg_rate_limit`.\n",
      "\n",
      "Current values:\n",
      "NotebookApp.iopub_msg_rate_limit=1000.0 (msgs/sec)\n",
      "NotebookApp.rate_limit_window=3.0 (secs)\n",
      "\n",
      "IOPub message rate exceeded.\n",
      "The notebook server will temporarily stop sending output\n",
      "to the client in order to avoid crashing it.\n",
      "To change this limit, set the config variable\n",
      "`--NotebookApp.iopub_msg_rate_limit`.\n",
      "\n",
      "Current values:\n",
      "NotebookApp.iopub_msg_rate_limit=1000.0 (msgs/sec)\n",
      "NotebookApp.rate_limit_window=3.0 (secs)\n",
      "\n",
      "IOPub message rate exceeded.\n",
      "The notebook server will temporarily stop sending output\n",
      "to the client in order to avoid crashing it.\n",
      "To change this limit, set the config variable\n",
      "`--NotebookApp.iopub_msg_rate_limit`.\n",
      "\n",
      "Current values:\n",
      "NotebookApp.iopub_msg_rate_limit=1000.0 (msgs/sec)\n",
      "NotebookApp.rate_limit_window=3.0 (secs)\n",
      "\n",
      "IOPub message rate exceeded.\n",
      "The notebook server will temporarily stop sending output\n",
      "to the client in order to avoid crashing it.\n",
      "To change this limit, set the config variable\n",
      "`--NotebookApp.iopub_msg_rate_limit`.\n",
      "\n",
      "Current values:\n",
      "NotebookApp.iopub_msg_rate_limit=1000.0 (msgs/sec)\n",
      "NotebookApp.rate_limit_window=3.0 (secs)\n",
      "\n",
      "IOPub message rate exceeded.\n",
      "The notebook server will temporarily stop sending output\n",
      "to the client in order to avoid crashing it.\n",
      "To change this limit, set the config variable\n",
      "`--NotebookApp.iopub_msg_rate_limit`.\n",
      "\n",
      "Current values:\n",
      "NotebookApp.iopub_msg_rate_limit=1000.0 (msgs/sec)\n",
      "NotebookApp.rate_limit_window=3.0 (secs)\n",
      "\n",
      "IOPub message rate exceeded.\n",
      "The notebook server will temporarily stop sending output\n",
      "to the client in order to avoid crashing it.\n",
      "To change this limit, set the config variable\n",
      "`--NotebookApp.iopub_msg_rate_limit`.\n",
      "\n",
      "Current values:\n",
      "NotebookApp.iopub_msg_rate_limit=1000.0 (msgs/sec)\n",
      "NotebookApp.rate_limit_window=3.0 (secs)\n",
      "\n"
     ]
    }
   ],
   "source": [
    "cols = ['url_host_idx', 'date_sorting_val', 'region_name_idx', 'city_name_idx',\n",
    "       'cpe_manufacturer_name_idx', 'cpe_model_name_idx',\n",
    "       'cpe_type_cd_idx', 'cpe_model_os_type_idx', 'price_idx', 'request_cnt']\n",
    "\n",
    "for col in tqdm(cols):\n",
    "    pbar = tqdm(total=users.shape[0])\n",
    "    vals = users[col].apply(fillna)\n",
    "\n",
    "    max_val = vals.apply(max).max() + 1\n",
    "\n",
    "    with gzip.open('files/seqs_%s.gz'%col.split('_idx')[0], 'wt') as f:\n",
    "        for i, reindex in enumerate(tqdm(users['reindex'].values)):\n",
    "            row = np.array(vals[i])[reindex].copy()\n",
    "            mask = row < 0\n",
    "            row[mask] = max_val\n",
    "            f.write(' '.join(map(str, row)))\n",
    "            f.write('\\n')"
   ]
  },
  {
   "cell_type": "markdown",
   "metadata": {},
   "source": [
    "## Загрузка мешка слов для ссылок"
   ]
  },
  {
   "cell_type": "code",
   "execution_count": 28,
   "metadata": {},
   "outputs": [
    {
     "data": {
      "text/plain": [
       "{'data': <415317x199684 sparse matrix of type '<class 'numpy.uint16'>'\n",
       " \twith 32277669 stored elements in Compressed Sparse Row format>,\n",
       " 'uids': array([     4,     16,     18, ..., 415276, 415288, 415293])}"
      ]
     },
     "execution_count": 28,
     "metadata": {},
     "output_type": "execute_result"
    }
   ],
   "source": [
    "with gzip.open('files/url_host_cbag_v2.pickle.gz', 'rb') as f:\n",
    "    datamap = pickle.load(f)\n",
    "datamap"
   ]
  },
  {
   "cell_type": "markdown",
   "metadata": {},
   "source": [
    "## Формирование tsv файла с таргетами"
   ]
  },
  {
   "cell_type": "code",
   "execution_count": 35,
   "metadata": {},
   "outputs": [
    {
     "data": {
      "text/html": [
       "<div>\n",
       "<style scoped>\n",
       "    .dataframe tbody tr th:only-of-type {\n",
       "        vertical-align: middle;\n",
       "    }\n",
       "\n",
       "    .dataframe tbody tr th {\n",
       "        vertical-align: top;\n",
       "    }\n",
       "\n",
       "    .dataframe thead th {\n",
       "        text-align: right;\n",
       "    }\n",
       "</style>\n",
       "<table border=\"1\" class=\"dataframe\">\n",
       "  <thead>\n",
       "    <tr style=\"text-align: right;\">\n",
       "      <th></th>\n",
       "      <th>user_id</th>\n",
       "      <th>age</th>\n",
       "      <th>is_male</th>\n",
       "    </tr>\n",
       "  </thead>\n",
       "  <tbody>\n",
       "    <tr>\n",
       "      <td>207980</td>\n",
       "      <td>1451</td>\n",
       "      <td>32.0</td>\n",
       "      <td>0</td>\n",
       "    </tr>\n",
       "    <tr>\n",
       "      <td>151433</td>\n",
       "      <td>267658</td>\n",
       "      <td>29.0</td>\n",
       "      <td>1</td>\n",
       "    </tr>\n",
       "    <tr>\n",
       "      <td>98679</td>\n",
       "      <td>155052</td>\n",
       "      <td>NaN</td>\n",
       "      <td>NaN</td>\n",
       "    </tr>\n",
       "    <tr>\n",
       "      <td>373776</td>\n",
       "      <td>412651</td>\n",
       "      <td>56.0</td>\n",
       "      <td>1</td>\n",
       "    </tr>\n",
       "    <tr>\n",
       "      <td>274496</td>\n",
       "      <td>251949</td>\n",
       "      <td>28.0</td>\n",
       "      <td>1</td>\n",
       "    </tr>\n",
       "    <tr>\n",
       "      <td>134467</td>\n",
       "      <td>98784</td>\n",
       "      <td>38.0</td>\n",
       "      <td>0</td>\n",
       "    </tr>\n",
       "    <tr>\n",
       "      <td>187538</td>\n",
       "      <td>210398</td>\n",
       "      <td>39.0</td>\n",
       "      <td>0</td>\n",
       "    </tr>\n",
       "    <tr>\n",
       "      <td>155840</td>\n",
       "      <td>311569</td>\n",
       "      <td>62.0</td>\n",
       "      <td>0</td>\n",
       "    </tr>\n",
       "    <tr>\n",
       "      <td>278240</td>\n",
       "      <td>288276</td>\n",
       "      <td>44.0</td>\n",
       "      <td>1</td>\n",
       "    </tr>\n",
       "    <tr>\n",
       "      <td>285197</td>\n",
       "      <td>357699</td>\n",
       "      <td>NaN</td>\n",
       "      <td>NaN</td>\n",
       "    </tr>\n",
       "  </tbody>\n",
       "</table>\n",
       "</div>"
      ],
      "text/plain": [
       "        user_id   age is_male\n",
       "207980     1451  32.0       0\n",
       "151433   267658  29.0       1\n",
       "98679    155052   NaN     NaN\n",
       "373776   412651  56.0       1\n",
       "274496   251949  28.0       1\n",
       "134467    98784  38.0       0\n",
       "187538   210398  39.0       0\n",
       "155840   311569  62.0       0\n",
       "278240   288276  44.0       1\n",
       "285197   357699   NaN     NaN"
      ]
     },
     "execution_count": 35,
     "metadata": {},
     "output_type": "execute_result"
    }
   ],
   "source": [
    "trg_df = pd.DataFrame(dict(user_id=datamap['uids'])\n",
    "            ).merge(pd.read_parquet('public_train.pqt'),\n",
    "                    how='left')\n",
    "trg_df.to_csv('target.tsv.gz', sep='\\t', index=False)\n",
    "trg_df.sample(10)"
   ]
  },
  {
   "cell_type": "markdown",
   "metadata": {},
   "source": [
    "## Создание dummy файла скоров для удобства в будущем"
   ]
  },
  {
   "cell_type": "code",
   "execution_count": 168,
   "metadata": {},
   "outputs": [],
   "source": [
    "sample_df = pd.read_parquet('submit_2.pqt')\n",
    "sample_df = \\\n",
    "sample_df.merge(pd.DataFrame(dict(user_id=datamap['uids'],\n",
    "                                  idx=np.arange(len(datamap['uids'])))),\n",
    "                how='left')\n",
    "\n",
    "sample_df['is_male'] = np.random.random(size=sample_df.idx.values.size)\n",
    "sample_df['age'] = np.random.randint(1, 7, size=sample_df.idx.values.size)\n",
    "sample_df = \\\n",
    "sample_df.sort_values(by='user_id').\\\n",
    "          drop('idx', axis=1)\n",
    "\n",
    "sample_df.\\\n",
    "    to_csv('baseline_submission_wo_index.csv',\n",
    "           sep=',',\n",
    "           index=False,)\n",
    "\n",
    "sample_df.\\\n",
    "    to_csv('baseline_submission_w_index.csv',\n",
    "           sep=',',\n",
    "           index=True,)"
   ]
  }
 ],
 "metadata": {
  "kernelspec": {
   "display_name": "Python 3",
   "language": "python",
   "name": "python3"
  },
  "language_info": {
   "codemirror_mode": {
    "name": "ipython",
    "version": 3
   },
   "file_extension": ".py",
   "mimetype": "text/x-python",
   "name": "python",
   "nbconvert_exporter": "python",
   "pygments_lexer": "ipython3",
   "version": "3.7.3"
  }
 },
 "nbformat": 4,
 "nbformat_minor": 2
}
