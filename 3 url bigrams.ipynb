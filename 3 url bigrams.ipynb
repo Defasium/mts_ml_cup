{
 "cells": [
  {
   "cell_type": "markdown",
   "metadata": {},
   "source": [
    "## Импорт библиотек"
   ]
  },
  {
   "cell_type": "code",
   "execution_count": 5,
   "metadata": {},
   "outputs": [
    {
     "name": "stdout",
     "output_type": "stream",
     "text": [
      "CPU times: user 1.09 ms, sys: 0 ns, total: 1.09 ms\n",
      "Wall time: 1.11 ms\n"
     ]
    }
   ],
   "source": [
    "%%time\n",
    "import gzip\n",
    "import pickle\n",
    "import numpy as np\n",
    "import pandas as pd\n",
    "import matplotlib.pyplot as plt\n",
    "from tqdm.auto import tqdm\n",
    "%matplotlib inline\n",
    "from scipy.sparse import csr_matrix, vstack\n",
    "from IPython.display import clear_output\n",
    "from ipywidgets.widgets import interact, interact_manual\n",
    "import os\n",
    "import gc\n",
    "from PIL import Image\n",
    "from multiprocessing.pool import Pool\n",
    "from functools import partial\n",
    "import sentencepiece as spm\n",
    "import json\n",
    "import gensim\n",
    "from gensim.test.utils import datapath\n",
    "import logging\n",
    "from sklearn.decomposition import TruncatedSVD\n",
    "logging.basicConfig(format='%(asctime)s : %(levelname)s : %(message)s', level=logging.INFO)"
   ]
  },
  {
   "cell_type": "markdown",
   "metadata": {},
   "source": [
    "## Вывод всех файлов с последовательностями"
   ]
  },
  {
   "cell_type": "code",
   "execution_count": 2,
   "metadata": {},
   "outputs": [
    {
     "name": "stdout",
     "output_type": "stream",
     "text": [
      "files/seqs_city_name.gz\t\t     files/seqs_date_sorting_val.gz\r\n",
      "files/seqs_cpe_manufacturer_name.gz  files/seqs_price.gz\r\n",
      "files/seqs_cpe_model_name.gz\t     files/seqs_region_name.gz\r\n",
      "files/seqs_cpe_model_os_type.gz      files/seqs_request_cnt.gz\r\n",
      "files/seqs_cpe_type_cd.gz\t     files/seqs_url_host.gz\r\n"
     ]
    }
   ],
   "source": [
    "!ls files/*seq*"
   ]
  },
  {
   "cell_type": "markdown",
   "metadata": {},
   "source": [
    "## Загрузка последовательностей ссылок"
   ]
  },
  {
   "cell_type": "code",
   "execution_count": 2,
   "metadata": {},
   "outputs": [
    {
     "data": {
      "application/vnd.jupyter.widget-view+json": {
       "model_id": "e79efe6bad514c40ace1bbebb50ccef7",
       "version_major": 2,
       "version_minor": 0
      },
      "text/plain": [
       "0it [00:00, ?it/s]"
      ]
     },
     "metadata": {},
     "output_type": "display_data"
    },
    {
     "data": {
      "text/plain": [
       "415317"
      ]
     },
     "execution_count": 2,
     "metadata": {},
     "output_type": "execute_result"
    }
   ],
   "source": [
    "XX = []\n",
    "c = 0\n",
    "with gzip.open('files/seqs_url_host.gz', 'rt', encoding='utf-8') as f:\n",
    "    for line in tqdm(f):\n",
    "        XX.append(list(map(int, line.strip().split(' '))))\n",
    "        c += 1\n",
    "len(XX)"
   ]
  },
  {
   "cell_type": "markdown",
   "metadata": {},
   "source": [
    "## Загрузка последовательностей дат"
   ]
  },
  {
   "cell_type": "code",
   "execution_count": 3,
   "metadata": {},
   "outputs": [
    {
     "data": {
      "application/vnd.jupyter.widget-view+json": {
       "model_id": "3ff22e1a5448483bbedb0f3641235d99",
       "version_major": 2,
       "version_minor": 0
      },
      "text/plain": [
       "0it [00:00, ?it/s]"
      ]
     },
     "metadata": {},
     "output_type": "display_data"
    },
    {
     "data": {
      "text/plain": [
       "415317"
      ]
     },
     "execution_count": 3,
     "metadata": {},
     "output_type": "execute_result"
    }
   ],
   "source": [
    "TT = []\n",
    "c = 0\n",
    "with gzip.open('files/seqs_date_sorting_val.gz', 'rt', encoding='utf-8') as f:\n",
    "    for line in tqdm(f):\n",
    "        TT.append(list(map(int, line.strip().split(' '))))\n",
    "        c += 1\n",
    "len(TT)"
   ]
  },
  {
   "cell_type": "markdown",
   "metadata": {},
   "source": [
    "## Статистики : mean-max-std кол-во дублей в последовательностях"
   ]
  },
  {
   "cell_type": "code",
   "execution_count": 12,
   "metadata": {},
   "outputs": [
    {
     "data": {
      "text/plain": [
       "(array([27.77666939,  7.61395986,  5.74789045]),\n",
       " array([437.        ,  99.5       ,  69.12409523]))"
      ]
     },
     "execution_count": 12,
     "metadata": {},
     "output_type": "execute_result"
    }
   ],
   "source": [
    "stats = []\n",
    "for tt in tqdm(TT):\n",
    "    tmp = np.unique(tt, return_counts=True)[-1].copy()\n",
    "    stats.append((tmp.max(), tmp.mean(), tmp.std()))\n",
    "np.mean(stats, axis=0), np.max(stats, axis=0)"
   ]
  },
  {
   "cell_type": "markdown",
   "metadata": {},
   "source": [
    "## Подсчёт частоты ссылок в последовательностях"
   ]
  },
  {
   "cell_type": "code",
   "execution_count": 4,
   "metadata": {},
   "outputs": [
    {
     "data": {
      "application/vnd.jupyter.widget-view+json": {
       "model_id": "8d5927d209224b719acb1f7013c8ff0d",
       "version_major": 2,
       "version_minor": 0
      },
      "text/plain": [
       "  0%|          | 0/415317 [00:00<?, ?it/s]"
      ]
     },
     "metadata": {},
     "output_type": "display_data"
    },
    {
     "data": {
      "text/plain": [
       "199683"
      ]
     },
     "execution_count": 4,
     "metadata": {},
     "output_type": "execute_result"
    }
   ],
   "source": [
    "idx_cnt_map = {}\n",
    "for xx in tqdm(XX):\n",
    "    for x in xx:\n",
    "        idx_cnt_map[x] = idx_cnt_map.get(x, 0) + 1\n",
    "len(idx_cnt_map)"
   ]
  },
  {
   "cell_type": "markdown",
   "metadata": {},
   "source": [
    "## Оставляем элементы последовательностей с большой частотой"
   ]
  },
  {
   "cell_type": "code",
   "execution_count": 6,
   "metadata": {},
   "outputs": [
    {
     "data": {
      "application/vnd.jupyter.widget-view+json": {
       "model_id": "bb61b91342d54ca98a5d949980dec1ae",
       "version_major": 2,
       "version_minor": 0
      },
      "text/plain": [
       "  0%|          | 0/415317 [00:00<?, ?it/s]"
      ]
     },
     "metadata": {},
     "output_type": "display_data"
    },
    {
     "data": {
      "text/plain": [
       "27971"
      ]
     },
     "execution_count": 6,
     "metadata": {},
     "output_type": "execute_result"
    }
   ],
   "source": [
    "XX_ = []\n",
    "TT_ = []\n",
    "pbar = tqdm(total=len(XX))\n",
    "for xx, tt in zip(XX, TT):\n",
    "    keep_mask = [idx_cnt_map.get(xxx, 0) >= 50 for xxx in xx]\n",
    "    XX_.append([xxx for xxx, remain in zip(xx, keep_mask) if remain])\n",
    "    TT_.append([ttt for ttt, remain in zip(tt, keep_mask) if remain])\n",
    "    pbar.update(1)\n",
    "del XX, TT\n",
    "gc.collect()\n",
    "max(map(len, XX_))"
   ]
  },
  {
   "cell_type": "markdown",
   "metadata": {},
   "source": [
    "## Статистики уменьшились"
   ]
  },
  {
   "cell_type": "code",
   "execution_count": 7,
   "metadata": {},
   "outputs": [
    {
     "data": {
      "application/vnd.jupyter.widget-view+json": {
       "model_id": "9ad9303a4ba54ce28a3bcac906f61d99",
       "version_major": 2,
       "version_minor": 0
      },
      "text/plain": [
       "  0%|          | 0/415317 [00:00<?, ?it/s]"
      ]
     },
     "metadata": {},
     "output_type": "display_data"
    },
    {
     "data": {
      "text/plain": [
       "(array([27.53051765,  7.58641791,  5.70882081]),\n",
       " array([392.        ,  86.        ,  58.85378115]))"
      ]
     },
     "execution_count": 7,
     "metadata": {},
     "output_type": "execute_result"
    }
   ],
   "source": [
    "stats = []\n",
    "for tt in tqdm(TT_):\n",
    "    if not len(tt):\n",
    "        stats.append((0, 0, 0))\n",
    "        continue\n",
    "    tmp = np.unique(tt, return_counts=True)[-1].copy()\n",
    "    stats.append((tmp.max(), tmp.mean(), tmp.std()))\n",
    "np.mean(stats, axis=0), np.max(stats, axis=0)"
   ]
  },
  {
   "cell_type": "markdown",
   "metadata": {},
   "source": [
    "## Считаем частоты встречаемости пар ссылок в наших данных"
   ]
  },
  {
   "cell_type": "code",
   "execution_count": 9,
   "metadata": {},
   "outputs": [
    {
     "data": {
      "application/vnd.jupyter.widget-view+json": {
       "model_id": "60bb3b252cb44bd59fc274cdd5e6e46b",
       "version_major": 2,
       "version_minor": 0
      },
      "text/plain": [
       "  0%|          | 0/415317 [00:00<?, ?it/s]"
      ]
     },
     "metadata": {},
     "output_type": "display_data"
    }
   ],
   "source": [
    "interaction_cnt_map = dict()\n",
    "pbar = tqdm(total=len(XX_))\n",
    "for xx, tt in zip(XX_, TT_):\n",
    "    if not len(xx):\n",
    "        #II.append([])\n",
    "        pbar.update(1)\n",
    "        continue\n",
    "    tmp = np.array(tt)\n",
    "    stoppers = list(np.where(tmp[:-1] != tmp[1:])[0] + 1)\n",
    "    stoppers = [0] + stoppers + [len(tt)]\n",
    "    xx = np.array(xx)\n",
    "    segments = []\n",
    "\n",
    "    for left, right in zip(stoppers[:-1], stoppers[1:]):\n",
    "        segments.append(set(list(xx[left:right])))\n",
    "\n",
    "    for left_segment, right_segment in zip(segments[:-1], segments[1:]):\n",
    "        for i in left_segment:\n",
    "            for j in right_segment:\n",
    "                # тут сортируем индексы ссылок, чтобы уменьшить разнообразие\n",
    "                key = tuple(sorted([i, j]))\n",
    "                interaction_cnt_map[key] = interaction_cnt_map.get(key, 0) + 1\n",
    "    pbar.update(1)"
   ]
  },
  {
   "cell_type": "markdown",
   "metadata": {},
   "source": [
    "## Сколько всего получилось пар ссылок"
   ]
  },
  {
   "cell_type": "code",
   "execution_count": 10,
   "metadata": {
    "scrolled": true
   },
   "outputs": [
    {
     "data": {
      "text/plain": [
       "11803853"
      ]
     },
     "execution_count": 10,
     "metadata": {},
     "output_type": "execute_result"
    }
   ],
   "source": [
    "len(interaction_cnt_map)"
   ]
  },
  {
   "cell_type": "markdown",
   "metadata": {},
   "source": [
    "## Сохраняем промежуточный результат на всякий случай"
   ]
  },
  {
   "cell_type": "code",
   "execution_count": 11,
   "metadata": {},
   "outputs": [
    {
     "name": "stdout",
     "output_type": "stream",
     "text": [
      "CPU times: user 2min 43s, sys: 3.69 s, total: 2min 47s\n",
      "Wall time: 2min 48s\n"
     ]
    }
   ],
   "source": [
    "%%time\n",
    "with gzip.open('url_bigrams_keys.pickle.gz', 'wb') as f:\n",
    "    pickle.dump(interaction_cnt_map, f, protocol=-1)"
   ]
  },
  {
   "cell_type": "markdown",
   "metadata": {},
   "source": [
    "## Оставляем только частотные пары ссылок"
   ]
  },
  {
   "cell_type": "code",
   "execution_count": 12,
   "metadata": {},
   "outputs": [
    {
     "data": {
      "text/plain": [
       "653561"
      ]
     },
     "execution_count": 12,
     "metadata": {},
     "output_type": "execute_result"
    }
   ],
   "source": [
    "interaction_whitelist = set([k for k, v in interaction_cnt_map.items() if v>=80])\n",
    "interaction_whitelist = {k: i for i, k in enumerate(interaction_whitelist)}\n",
    "len(interaction_whitelist)"
   ]
  },
  {
   "cell_type": "markdown",
   "metadata": {},
   "source": [
    "## Считаем биграммы на декартовых произведениях соседних временных множест"
   ]
  },
  {
   "cell_type": "code",
   "execution_count": 25,
   "metadata": {},
   "outputs": [
    {
     "data": {
      "application/vnd.jupyter.widget-view+json": {
       "model_id": "e8e90cea8f0f4c808bef2b2b39d77611",
       "version_major": 2,
       "version_minor": 0
      },
      "text/plain": [
       "  0%|          | 0/415317 [00:00<?, ?it/s]"
      ]
     },
     "metadata": {},
     "output_type": "display_data"
    },
    {
     "name": "stderr",
     "output_type": "stream",
     "text": [
      "IOPub message rate exceeded.\n",
      "The notebook server will temporarily stop sending output\n",
      "to the client in order to avoid crashing it.\n",
      "To change this limit, set the config variable\n",
      "`--NotebookApp.iopub_msg_rate_limit`.\n",
      "\n",
      "Current values:\n",
      "NotebookApp.iopub_msg_rate_limit=1000.0 (msgs/sec)\n",
      "NotebookApp.rate_limit_window=3.0 (secs)\n",
      "\n",
      "IOPub message rate exceeded.\n",
      "The notebook server will temporarily stop sending output\n",
      "to the client in order to avoid crashing it.\n",
      "To change this limit, set the config variable\n",
      "`--NotebookApp.iopub_msg_rate_limit`.\n",
      "\n",
      "Current values:\n",
      "NotebookApp.iopub_msg_rate_limit=1000.0 (msgs/sec)\n",
      "NotebookApp.rate_limit_window=3.0 (secs)\n",
      "\n",
      "IOPub message rate exceeded.\n",
      "The notebook server will temporarily stop sending output\n",
      "to the client in order to avoid crashing it.\n",
      "To change this limit, set the config variable\n",
      "`--NotebookApp.iopub_msg_rate_limit`.\n",
      "\n",
      "Current values:\n",
      "NotebookApp.iopub_msg_rate_limit=1000.0 (msgs/sec)\n",
      "NotebookApp.rate_limit_window=3.0 (secs)\n",
      "\n",
      "IOPub message rate exceeded.\n",
      "The notebook server will temporarily stop sending output\n",
      "to the client in order to avoid crashing it.\n",
      "To change this limit, set the config variable\n",
      "`--NotebookApp.iopub_msg_rate_limit`.\n",
      "\n",
      "Current values:\n",
      "NotebookApp.iopub_msg_rate_limit=1000.0 (msgs/sec)\n",
      "NotebookApp.rate_limit_window=3.0 (secs)\n",
      "\n"
     ]
    },
    {
     "data": {
      "text/plain": [
       "131444619"
      ]
     },
     "execution_count": 25,
     "metadata": {},
     "output_type": "execute_result"
    }
   ],
   "source": [
    "output_folder = 'auxilary/bigrams'\n",
    "os.makedirs(output_folder, exist_ok=True)\n",
    "II_rows = []\n",
    "II_cols = []\n",
    "II_data = []\n",
    "row_offset = 0\n",
    "CHUNK_SIZE = 50_000\n",
    "pbar = tqdm(total=len(XX_))\n",
    "for row_id, (xx, tt) in enumerate(zip(XX_, TT_)):\n",
    "    if not len(xx):\n",
    "        pbar.update(1)\n",
    "        continue\n",
    "    tmp = np.array(tt)\n",
    "    stoppers = list(np.where(tmp[:-1] != tmp[1:])[0] + 1)\n",
    "    stoppers = [0] + stoppers + [len(tt)]\n",
    "    xx = np.array(xx)\n",
    "    segments = []\n",
    "\n",
    "    for left, right in zip(stoppers[:-1], stoppers[1:]):\n",
    "        segments.append(set(list(xx[left:right])))\n",
    "\n",
    "    ii_cols = []\n",
    "    for left_segment, right_segment in zip(segments[:-1], segments[1:]):\n",
    "        for i in left_segment:\n",
    "            for j in right_segment:\n",
    "                key = tuple(sorted([i, j]))\n",
    "                if key not in interaction_whitelist: continue\n",
    "                ii_cols.append(interaction_whitelist[key])\n",
    "    II_cols.extend(ii_cols)\n",
    "    II_rows.extend([row_id - row_offset]*len(ii_cols))\n",
    "    II_data.extend([1]*len(ii_cols))\n",
    "    pbar.update(1)\n",
    "    if (row_id % CHUNK_SIZE == 0) and row_id:\n",
    "        tmp_dat = csr_matrix((II_data, (II_rows, II_cols)),\n",
    "                             shape=(II_rows[-1] + 1,\n",
    "                                    len(interaction_whitelist)),\n",
    "                             dtype=np.uint32)\n",
    "        with gzip.open(os.path.join(output_folder, '%06d.pickle.gz'%row_id), 'wb') as f:\n",
    "            pickle.dump(tmp_dat, f, protocol=-1)\n",
    "        row_offset = row_id + 1\n",
    "        II_rows = []\n",
    "        II_cols = []\n",
    "        II_data = []\n",
    "if len(II_rows):\n",
    "    tmp_dat = csr_matrix((II_data, (II_rows, II_cols)),\n",
    "                         shape=(II_rows[-1] + 1,\n",
    "                                len(interaction_whitelist)),\n",
    "                         dtype=np.uint16)\n",
    "    with gzip.open(os.path.join(output_folder, '%d.pickle.gz'%row_id), 'wb') as f:\n",
    "        pickle.dump(tmp_dat, f, protocol=-1)\n",
    "len(II_data)"
   ]
  },
  {
   "cell_type": "markdown",
   "metadata": {},
   "source": [
    "## Склеиваем чанки в одну sparse матрицу"
   ]
  },
  {
   "cell_type": "code",
   "execution_count": 94,
   "metadata": {},
   "outputs": [
    {
     "data": {
      "application/vnd.jupyter.widget-view+json": {
       "model_id": "e42bfd4315094215a2874bf0c0f4937a",
       "version_major": 2,
       "version_minor": 0
      },
      "text/plain": [
       "  0%|          | 0/10 [00:00<?, ?it/s]"
      ]
     },
     "metadata": {},
     "output_type": "display_data"
    },
    {
     "name": "stdout",
     "output_type": "stream",
     "text": [
      "050000.pickle.gz\n",
      "100000.pickle.gz\n",
      "150000.pickle.gz\n",
      "200000.pickle.gz\n",
      "250000.pickle.gz\n",
      "300000.pickle.gz\n",
      "350000.pickle.gz\n",
      "400000.pickle.gz\n",
      "415316.pickle.gz\n",
      "CPU times: user 27.9 s, sys: 8.73 s, total: 36.6 s\n",
      "Wall time: 36.7 s\n"
     ]
    }
   ],
   "source": [
    "%%time\n",
    "sparse_dats = []\n",
    "for file in tqdm(sorted(os.listdir(output_folder))):\n",
    "    if 'ipynb_checkpoints' in file:\n",
    "        continue\n",
    "    print(file)\n",
    "    with gzip.open(os.path.join(output_folder, file), 'rb') as f:\n",
    "        sparse_dats.append(pickle.load(f))\n",
    "sparse_dats[2] = \\\n",
    "csr_matrix((sparse_dats[2].data,\n",
    "            sparse_dats[2][1:].nonzero()),\n",
    "           shape=(50000, sparse_dats[2].shape[1]))\n",
    "sparse_dats[-1] = \\\n",
    "csr_matrix((sparse_dats[-1].data,\n",
    "            sparse_dats[-1][1:].nonzero()),\n",
    "           shape=(sparse_dats[-1].shape[0], sparse_dats[-1].shape[1]))"
   ]
  },
  {
   "cell_type": "code",
   "execution_count": 95,
   "metadata": {},
   "outputs": [],
   "source": [
    "sparse_data = vstack(sparse_dats[:1] +\n",
    "                     [(sd[1:] if sd[0].data.size==0 else sd) for sd in sparse_dats[1:]])"
   ]
  },
  {
   "cell_type": "code",
   "execution_count": 96,
   "metadata": {},
   "outputs": [
    {
     "data": {
      "text/plain": [
       "(415317, 653561)"
      ]
     },
     "execution_count": 96,
     "metadata": {},
     "output_type": "execute_result"
    }
   ],
   "source": [
    "sparse_data.shape"
   ]
  },
  {
   "cell_type": "markdown",
   "metadata": {},
   "source": [
    "## Проверяем на случайном поднаборе последовательностей, что биграмы упорядочены правильно"
   ]
  },
  {
   "cell_type": "code",
   "execution_count": 97,
   "metadata": {},
   "outputs": [
    {
     "data": {
      "application/vnd.jupyter.widget-view+json": {
       "model_id": "54064c6e660e4591b3a7fa463155900e",
       "version_major": 2,
       "version_minor": 0
      },
      "text/plain": [
       "0it [00:00, ?it/s]"
      ]
     },
     "metadata": {},
     "output_type": "display_data"
    },
    {
     "name": "stdout",
     "output_type": "stream",
     "text": [
      "307633\n",
      "357254\n"
     ]
    },
    {
     "data": {
      "text/plain": [
       "8382"
      ]
     },
     "execution_count": 97,
     "metadata": {},
     "output_type": "execute_result"
    }
   ],
   "source": [
    "checks = 0\n",
    "for row_id, (xx, tt) in tqdm(enumerate(zip(XX_, TT_))):\n",
    "    if not len(xx):\n",
    "        print(row_id)\n",
    "        continue\n",
    "    if np.random.random() < 0.98: continue\n",
    "    tmp = np.array(tt)\n",
    "    stoppers = list(np.where(tmp[:-1] != tmp[1:])[0] + 1)\n",
    "    stoppers = [0] + stoppers + [len(tt)]\n",
    "    xx = np.array(xx)\n",
    "    segments = []\n",
    "\n",
    "    for left, right in zip(stoppers[:-1], stoppers[1:]):\n",
    "        segments.append(set(list(xx[left:right])))\n",
    "\n",
    "    ii_cols = []\n",
    "    for left_segment, right_segment in zip(segments[:-1], segments[1:]):\n",
    "        for i in left_segment:\n",
    "            for j in right_segment:\n",
    "                key = tuple(sorted([i, j]))\n",
    "                if key not in interaction_whitelist: continue\n",
    "                ii_cols.append(interaction_whitelist[key])\n",
    "    assert set(ii_cols) == set(list(sparse_data[row_id].nonzero()[-1]))\n",
    "    checks += 1\n",
    "checks"
   ]
  },
  {
   "cell_type": "markdown",
   "metadata": {},
   "source": [
    "## Сохраняем биграмы как разряженную матрицу"
   ]
  },
  {
   "cell_type": "code",
   "execution_count": 98,
   "metadata": {},
   "outputs": [
    {
     "name": "stdout",
     "output_type": "stream",
     "text": [
      "CPU times: user 49min 30s, sys: 1min 7s, total: 50min 38s\n",
      "Wall time: 50min 45s\n"
     ]
    }
   ],
   "source": [
    "%%time\n",
    "with gzip.open('auxilary/bigrams_sparse.pickle.gz', 'wb') as f:\n",
    "    pickle.dump(sparse_data, f, protocol=-1)"
   ]
  },
  {
   "cell_type": "markdown",
   "metadata": {},
   "source": [
    "## До этого фильтровали по кол-ву элементов, а сейчас по числу уникальных юзеров"
   ]
  },
  {
   "cell_type": "code",
   "execution_count": 100,
   "metadata": {},
   "outputs": [
    {
     "data": {
      "text/plain": [
       "580437"
      ]
     },
     "execution_count": 100,
     "metadata": {},
     "output_type": "execute_result"
    }
   ],
   "source": [
    "feats_mask = (np.array((sparse_data>0).sum(axis=0)).flatten() > 40)\n",
    "feats_mask.sum()"
   ]
  },
  {
   "cell_type": "markdown",
   "metadata": {},
   "source": [
    "## Понижаем размерность с 580к до 512 признаков"
   ]
  },
  {
   "cell_type": "code",
   "execution_count": 101,
   "metadata": {},
   "outputs": [
    {
     "name": "stdout",
     "output_type": "stream",
     "text": [
      "CPU times: user 43min 48s, sys: 3min 20s, total: 47min 9s\n",
      "Wall time: 37min 52s\n"
     ]
    }
   ],
   "source": [
    "%%time\n",
    "sub_data = sparse_data[:, feats_mask]\n",
    "sub_data = csr_matrix(\n",
    "    (sub_data.data**0.5, sub_data.nonzero()), shape=sub_data.shape, dtype=np.float32\n",
    ")\n",
    "latents = \\\n",
    "TruncatedSVD(n_components=512, random_state=42\n",
    "            ).fit_transform(sub_data)"
   ]
  },
  {
   "cell_type": "markdown",
   "metadata": {},
   "source": [
    "## Сохраняем"
   ]
  },
  {
   "cell_type": "code",
   "execution_count": 102,
   "metadata": {
    "scrolled": true
   },
   "outputs": [
    {
     "name": "stdout",
     "output_type": "stream",
     "text": [
      "CPU times: user 39 s, sys: 2.44 s, total: 41.4 s\n",
      "Wall time: 41.5 s\n"
     ]
    }
   ],
   "source": [
    "%%time\n",
    "with gzip.open('auxilary/bigrams_dense.pickle.gz', 'wb') as f:\n",
    "    pickle.dump(latents, f, protocol=-1)"
   ]
  }
 ],
 "metadata": {
  "kernelspec": {
   "display_name": "Python 3",
   "language": "python",
   "name": "python3"
  },
  "language_info": {
   "codemirror_mode": {
    "name": "ipython",
    "version": 3
   },
   "file_extension": ".py",
   "mimetype": "text/x-python",
   "name": "python",
   "nbconvert_exporter": "python",
   "pygments_lexer": "ipython3",
   "version": "3.7.3"
  }
 },
 "nbformat": 4,
 "nbformat_minor": 2
}
