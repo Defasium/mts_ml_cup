{
 "cells": [
  {
   "cell_type": "markdown",
   "metadata": {},
   "source": [
    "## Ограничения на ресурсы для numpy, импорт библиотек"
   ]
  },
  {
   "cell_type": "code",
   "execution_count": 1,
   "metadata": {},
   "outputs": [],
   "source": [
    "import os\n",
    "os.environ[\"OMP_NUM_THREADS\"] = \"4\" # export OMP_NUM_THREADS=4\n",
    "os.environ[\"OPENBLAS_NUM_THREADS\"] = \"4\" # export OPENBLAS_NUM_THREADS=4 \n",
    "os.environ[\"MKL_NUM_THREADS\"] = \"6\" # export MKL_NUM_THREADS=6\n",
    "os.environ[\"VECLIB_MAXIMUM_THREADS\"] = \"4\" # export VECLIB_MAXIMUM_THREADS=4\n",
    "os.environ[\"NUMEXPR_NUM_THREADS\"] = \"6\" # export NUMEXPR_NUM_THREADS=6"
   ]
  },
  {
   "cell_type": "code",
   "execution_count": 19,
   "metadata": {},
   "outputs": [],
   "source": [
    "import pandas as pd\n",
    "import numpy as np\n",
    "import os\n",
    "import time\n",
    "from tqdm.auto import tqdm\n",
    "from functools import reduce\n",
    "\n",
    "import scipy\n",
    "from scipy.sparse import csr_matrix, hstack, vstack\n",
    "from scipy.optimize import minimize\n",
    "import gzip\n",
    "import pickle\n",
    "\n",
    "import sklearn\n",
    "from sklearn.utils import resample\n",
    "from sklearn.pipeline import Pipeline\n",
    "from sklearn.preprocessing import KBinsDiscretizer\n",
    "from sklearn.preprocessing import QuantileTransformer, Normalizer\n",
    "from sklearn.feature_extraction.text import TfidfTransformer\n",
    "from sklearn.feature_extraction.text import CountVectorizer\n",
    "from sklearn.linear_model import LogisticRegression\n",
    "from sklearn.model_selection import cross_val_predict, StratifiedKFold\n",
    "from sklearn.ensemble import BaggingClassifier\n",
    "from sklearn.metrics import roc_auc_score, classification_report, confusion_matrix, f1_score\n",
    "from sklearn.linear_model import LogisticRegression, Ridge\n",
    "from sklearn.model_selection import cross_val_predict\n",
    "\n",
    "import matplotlib.pyplot as plt\n",
    "%matplotlib inline"
   ]
  },
  {
   "cell_type": "markdown",
   "metadata": {},
   "source": [
    "## Загрузка мешка слов по ссылкам"
   ]
  },
  {
   "cell_type": "code",
   "execution_count": 3,
   "metadata": {},
   "outputs": [
    {
     "data": {
      "text/plain": [
       "{'data': <415317x199684 sparse matrix of type '<class 'numpy.uint32'>'\n",
       " \twith 32277669 stored elements in Compressed Sparse Row format>,\n",
       " 'uids': array([     4,     16,     18, ..., 415276, 415288, 415293])}"
      ]
     },
     "execution_count": 3,
     "metadata": {},
     "output_type": "execute_result"
    }
   ],
   "source": [
    "with gzip.open('files/url_host_cbag_v2.pickle.gz', 'rb') as f:\n",
    "    datamap = pickle.load(f)\n",
    "datamap"
   ]
  },
  {
   "cell_type": "markdown",
   "metadata": {},
   "source": [
    "## Получение частотных ссылок мешка слов url_host"
   ]
  },
  {
   "cell_type": "code",
   "execution_count": 4,
   "metadata": {},
   "outputs": [
    {
     "data": {
      "text/plain": [
       "20144"
      ]
     },
     "execution_count": 4,
     "metadata": {},
     "output_type": "execute_result"
    }
   ],
   "source": [
    "feats_mask = (np.array((datamap['data']>0).sum(axis=0)).flatten() > 40)\n",
    "feats_mask.sum()"
   ]
  },
  {
   "cell_type": "markdown",
   "metadata": {},
   "source": [
    "## Считывание файла с таргетами"
   ]
  },
  {
   "cell_type": "code",
   "execution_count": 5,
   "metadata": {},
   "outputs": [
    {
     "data": {
      "text/html": [
       "<div>\n",
       "<style scoped>\n",
       "    .dataframe tbody tr th:only-of-type {\n",
       "        vertical-align: middle;\n",
       "    }\n",
       "\n",
       "    .dataframe tbody tr th {\n",
       "        vertical-align: top;\n",
       "    }\n",
       "\n",
       "    .dataframe thead th {\n",
       "        text-align: right;\n",
       "    }\n",
       "</style>\n",
       "<table border=\"1\" class=\"dataframe\">\n",
       "  <thead>\n",
       "    <tr style=\"text-align: right;\">\n",
       "      <th></th>\n",
       "      <th>user_id</th>\n",
       "      <th>age</th>\n",
       "      <th>is_male</th>\n",
       "    </tr>\n",
       "  </thead>\n",
       "  <tbody>\n",
       "    <tr>\n",
       "      <td>175229</td>\n",
       "      <td>88118</td>\n",
       "      <td>39.0</td>\n",
       "      <td>0.0</td>\n",
       "    </tr>\n",
       "    <tr>\n",
       "      <td>240299</td>\n",
       "      <td>324114</td>\n",
       "      <td>44.0</td>\n",
       "      <td>0.0</td>\n",
       "    </tr>\n",
       "    <tr>\n",
       "      <td>308114</td>\n",
       "      <td>171028</td>\n",
       "      <td>26.0</td>\n",
       "      <td>1.0</td>\n",
       "    </tr>\n",
       "    <tr>\n",
       "      <td>369355</td>\n",
       "      <td>369120</td>\n",
       "      <td>50.0</td>\n",
       "      <td>0.0</td>\n",
       "    </tr>\n",
       "    <tr>\n",
       "      <td>307013</td>\n",
       "      <td>159777</td>\n",
       "      <td>52.0</td>\n",
       "      <td>1.0</td>\n",
       "    </tr>\n",
       "    <tr>\n",
       "      <td>13318</td>\n",
       "      <td>132129</td>\n",
       "      <td>37.0</td>\n",
       "      <td>0.0</td>\n",
       "    </tr>\n",
       "    <tr>\n",
       "      <td>285557</td>\n",
       "      <td>361222</td>\n",
       "      <td>36.0</td>\n",
       "      <td>0.0</td>\n",
       "    </tr>\n",
       "    <tr>\n",
       "      <td>125185</td>\n",
       "      <td>5367</td>\n",
       "      <td>NaN</td>\n",
       "      <td>NaN</td>\n",
       "    </tr>\n",
       "    <tr>\n",
       "      <td>150019</td>\n",
       "      <td>253386</td>\n",
       "      <td>33.0</td>\n",
       "      <td>0.0</td>\n",
       "    </tr>\n",
       "    <tr>\n",
       "      <td>85200</td>\n",
       "      <td>20466</td>\n",
       "      <td>NaN</td>\n",
       "      <td>NaN</td>\n",
       "    </tr>\n",
       "  </tbody>\n",
       "</table>\n",
       "</div>"
      ],
      "text/plain": [
       "        user_id   age  is_male\n",
       "175229    88118  39.0      0.0\n",
       "240299   324114  44.0      0.0\n",
       "308114   171028  26.0      1.0\n",
       "369355   369120  50.0      0.0\n",
       "307013   159777  52.0      1.0\n",
       "13318    132129  37.0      0.0\n",
       "285557   361222  36.0      0.0\n",
       "125185     5367   NaN      NaN\n",
       "150019   253386  33.0      0.0\n",
       "85200     20466   NaN      NaN"
      ]
     },
     "execution_count": 5,
     "metadata": {},
     "output_type": "execute_result"
    }
   ],
   "source": [
    "trg_df = pd.read_csv('target.tsv.gz', sep='\\t')\n",
    "trg_df.sample(10)"
   ]
  },
  {
   "cell_type": "markdown",
   "metadata": {},
   "source": [
    "# Подготовка таргетов и поднабора юзеров из обучения"
   ]
  },
  {
   "cell_type": "code",
   "execution_count": 6,
   "metadata": {},
   "outputs": [
    {
     "name": "stdout",
     "output_type": "stream",
     "text": [
      "Train sample: 270000\n"
     ]
    },
    {
     "data": {
      "text/plain": [
       "(1, 6, (270000, 20144))"
      ]
     },
     "execution_count": 6,
     "metadata": {},
     "output_type": "execute_result"
    }
   ],
   "source": [
    "key = 'data'\n",
    "\n",
    "(trg_df.age.isna()|trg_df.is_male.isna()).sum(),\\\n",
    "\n",
    "all_mask = (~trg_df.age.isna()|~trg_df.is_male.isna()).values.copy()\n",
    "trg_train = trg_df[all_mask].fillna({'is_male': 0.5, 'age':34})\n",
    "trg_age = trg_train.age.values.copy()\n",
    "trg_sex = trg_train.is_male.values.copy()\n",
    "\n",
    "\n",
    "age_bins = [[0, 25], [26, 35], [36, 45], [46, 55], [56, 65], [66, 999]]\n",
    "\n",
    "print('Train sample:', all_mask.sum())\n",
    "\n",
    "y_all = 0\n",
    "for k, age_bin in enumerate(age_bins):\n",
    "    y = pd.Series(trg_age).between(*age_bin).values.copy()\n",
    "    y_all += y*(k+1)\n",
    "\n",
    "X_tr = datamap[key][all_mask][:, feats_mask]\n",
    "\n",
    "y_all.min(), y_all.max(), X_tr.shape"
   ]
  },
  {
   "cell_type": "markdown",
   "metadata": {},
   "source": [
    "# Настройка валидации"
   ]
  },
  {
   "cell_type": "code",
   "execution_count": 7,
   "metadata": {},
   "outputs": [],
   "source": [
    "RANDOM_SEED = 42\n",
    "kfold = StratifiedKFold(n_splits=10,\n",
    "                        shuffle=True,\n",
    "                        random_state=RANDOM_SEED)\n",
    "folds = [(train_ind, test_ind) for train_ind, test_ind in\n",
    "         kfold.split((np.uint8(trg_sex*2)+y_all*10).astype(str),\n",
    "                     (np.uint8(trg_sex*2)+y_all*10).astype(str))]"
   ]
  },
  {
   "cell_type": "markdown",
   "metadata": {},
   "source": [
    "# Загрузка скоров"
   ]
  },
  {
   "cell_type": "code",
   "execution_count": 8,
   "metadata": {},
   "outputs": [
    {
     "data": {
      "application/vnd.jupyter.widget-view+json": {
       "model_id": "a5af9259179841788694d04794c71e12",
       "version_major": 2,
       "version_minor": 0
      },
      "text/plain": [
       "  0%|          | 0/3 [00:00<?, ?it/s]"
      ]
     },
     "metadata": {},
     "output_type": "display_data"
    },
    {
     "data": {
      "application/vnd.jupyter.widget-view+json": {
       "model_id": "f4e3a85b2f2a4f289353c59bfd3b447c",
       "version_major": 2,
       "version_minor": 0
      },
      "text/plain": [
       "  0%|          | 0/5 [00:00<?, ?it/s]"
      ]
     },
     "metadata": {},
     "output_type": "display_data"
    },
    {
     "data": {
      "application/vnd.jupyter.widget-view+json": {
       "model_id": "8c217391071843b1a3ccdd2f61c5258e",
       "version_major": 2,
       "version_minor": 0
      },
      "text/plain": [
       "  0%|          | 0/4 [00:00<?, ?it/s]"
      ]
     },
     "metadata": {},
     "output_type": "display_data"
    },
    {
     "data": {
      "application/vnd.jupyter.widget-view+json": {
       "model_id": "483865f04a2144d2b559cf1dfd49d670",
       "version_major": 2,
       "version_minor": 0
      },
      "text/plain": [
       "  0%|          | 0/5 [00:00<?, ?it/s]"
      ]
     },
     "metadata": {},
     "output_type": "display_data"
    },
    {
     "data": {
      "application/vnd.jupyter.widget-view+json": {
       "model_id": "a61a8442de904986b0328b95b3b825a4",
       "version_major": 2,
       "version_minor": 0
      },
      "text/plain": [
       "  0%|          | 0/6 [00:00<?, ?it/s]"
      ]
     },
     "metadata": {},
     "output_type": "display_data"
    },
    {
     "data": {
      "application/vnd.jupyter.widget-view+json": {
       "model_id": "afb81c0c44504f3b9e648f358751a569",
       "version_major": 2,
       "version_minor": 0
      },
      "text/plain": [
       "  0%|          | 0/9 [00:00<?, ?it/s]"
      ]
     },
     "metadata": {},
     "output_type": "display_data"
    },
    {
     "data": {
      "application/vnd.jupyter.widget-view+json": {
       "model_id": "9bb034fdd771465289990808cd313000",
       "version_major": 2,
       "version_minor": 0
      },
      "text/plain": [
       "  0%|          | 0/20 [00:00<?, ?it/s]"
      ]
     },
     "metadata": {},
     "output_type": "display_data"
    },
    {
     "data": {
      "application/vnd.jupyter.widget-view+json": {
       "model_id": "ebe560fc8e50444d87a68d79bce2863c",
       "version_major": 2,
       "version_minor": 0
      },
      "text/plain": [
       "  0%|          | 0/15 [00:00<?, ?it/s]"
      ]
     },
     "metadata": {},
     "output_type": "display_data"
    },
    {
     "data": {
      "application/vnd.jupyter.widget-view+json": {
       "model_id": "31febf246ea043578f26a1629c9c5cea",
       "version_major": 2,
       "version_minor": 0
      },
      "text/plain": [
       "  0%|          | 0/17 [00:00<?, ?it/s]"
      ]
     },
     "metadata": {},
     "output_type": "display_data"
    },
    {
     "data": {
      "application/vnd.jupyter.widget-view+json": {
       "model_id": "f5d1487f7e874fe98c5ba081b5e9e475",
       "version_major": 2,
       "version_minor": 0
      },
      "text/plain": [
       "  0%|          | 0/13 [00:00<?, ?it/s]"
      ]
     },
     "metadata": {},
     "output_type": "display_data"
    },
    {
     "data": {
      "application/vnd.jupyter.widget-view+json": {
       "model_id": "b145b5c681314dccbd2db27f1f1b291f",
       "version_major": 2,
       "version_minor": 0
      },
      "text/plain": [
       "  0%|          | 0/13 [00:00<?, ?it/s]"
      ]
     },
     "metadata": {},
     "output_type": "display_data"
    },
    {
     "data": {
      "application/vnd.jupyter.widget-view+json": {
       "model_id": "f285eb5ef37a4bf3860818b4b2da75bc",
       "version_major": 2,
       "version_minor": 0
      },
      "text/plain": [
       "  0%|          | 0/11 [00:00<?, ?it/s]"
      ]
     },
     "metadata": {},
     "output_type": "display_data"
    },
    {
     "data": {
      "application/vnd.jupyter.widget-view+json": {
       "model_id": "cb6abb81510b463a8c67bd0a4df58596",
       "version_major": 2,
       "version_minor": 0
      },
      "text/plain": [
       "  0%|          | 0/8 [00:00<?, ?it/s]"
      ]
     },
     "metadata": {},
     "output_type": "display_data"
    },
    {
     "data": {
      "application/vnd.jupyter.widget-view+json": {
       "model_id": "4687a116db05444992f89b04beb6dbe3",
       "version_major": 2,
       "version_minor": 0
      },
      "text/plain": [
       "  0%|          | 0/8 [00:00<?, ?it/s]"
      ]
     },
     "metadata": {},
     "output_type": "display_data"
    }
   ],
   "source": [
    "all_preds_sex = []\n",
    "all_preds_age = []\n",
    "model_names = []\n",
    "for k_start, k_end, file in [(1, 4, 'preds_290323_age_p'),\n",
    "                             (1, 6, 'preds_290323_sex_p'),\n",
    "                             (1, 5, 'preds_280323_sex_p'),\n",
    "                             (1, 6, 'preds_280323_age_p'),\n",
    "                             (1, 7, 'preds_270323_sex_p'),\n",
    "                             (1, 10, 'preds_270323_age_p'),\n",
    "                             (1, 21, 'preds_230323_age_p'),\n",
    "                             (1, 16, 'preds_230323_sex_p'),\n",
    "                             (1, 18, 'preds_120323_sex_p'),\n",
    "                             (1, 14, 'preds_120323_age_p'),\n",
    "                             (1, 14, 'preds_100323_sex_p'),\n",
    "                             (1, 12, 'preds_100323_age_p'),\n",
    "                             (1, 9, 'preds_070323_age_p'),\n",
    "                             (1, 9, 'preds_070323_sex_p'),\n",
    "                            ]:\n",
    "    tmp_preds_sex = []\n",
    "    tmp_preds_age = []\n",
    "    for k in tqdm(range(k_start, k_end)):\n",
    "        filename = '%s%d.pickle.gz'%(file, k)\n",
    "        with gzip.open(filename, 'rb') as f:\n",
    "            predsmap = pickle.load(f)\n",
    "            tmp_preds_age.append(predsmap['age'])\n",
    "            tmp_preds_sex.append(predsmap['sex'])\n",
    "            model_names.append(filename)\n",
    "    all_preds_sex.extend(tmp_preds_sex)\n",
    "    all_preds_age.extend(tmp_preds_age)\n"
   ]
  },
  {
   "cell_type": "markdown",
   "metadata": {},
   "source": [
    "## Лучшая модель по полу"
   ]
  },
  {
   "cell_type": "code",
   "execution_count": 9,
   "metadata": {},
   "outputs": [
    {
     "data": {
      "application/vnd.jupyter.widget-view+json": {
       "model_id": "a78aff25ffe94ae7b39e738f12fbc3a9",
       "version_major": 2,
       "version_minor": 0
      },
      "text/plain": [
       "  0%|          | 0/137 [00:00<?, ?it/s]"
      ]
     },
     "metadata": {},
     "output_type": "display_data"
    },
    {
     "data": {
      "text/plain": [
       "('../preds_120323_sex_p8.pickle.gz', 0.8909671840463607)"
      ]
     },
     "execution_count": 9,
     "metadata": {},
     "output_type": "execute_result"
    }
   ],
   "source": [
    "roc_aucs = []\n",
    "for probs in tqdm(all_preds_sex):\n",
    "    roc_aucs.append(\n",
    "        roc_auc_score(trg_sex[trg_sex!=0.5],\n",
    "                      probs[all_mask][trg_sex!=0.5])\n",
    "    )\n",
    "model_names[np.argmax(roc_aucs)], np.max(roc_aucs)"
   ]
  },
  {
   "cell_type": "markdown",
   "metadata": {},
   "source": [
    "## Лучшая модель по возрасту"
   ]
  },
  {
   "cell_type": "code",
   "execution_count": 10,
   "metadata": {},
   "outputs": [
    {
     "data": {
      "application/vnd.jupyter.widget-view+json": {
       "model_id": "0d09dc449b304a3abd60e8ed1c60cd34",
       "version_major": 2,
       "version_minor": 0
      },
      "text/plain": [
       "  0%|          | 0/137 [00:00<?, ?it/s]"
      ]
     },
     "metadata": {},
     "output_type": "display_data"
    },
    {
     "data": {
      "text/plain": [
       "('../preds_120323_age_p1.pickle.gz', 0.4909293614502094)"
      ]
     },
     "execution_count": 10,
     "metadata": {},
     "output_type": "execute_result"
    }
   ],
   "source": [
    "f1s = []\n",
    "for probs in tqdm(all_preds_age):\n",
    "    f1s.append(\n",
    "        f1_score(y_all-1,\n",
    "             probs.argmax(axis=1)[all_mask],\n",
    "             average='weighted'\n",
    "        )\n",
    "    )\n",
    "model_names[np.argmax(f1s)], np.max(f1s)"
   ]
  },
  {
   "cell_type": "markdown",
   "metadata": {},
   "source": [
    "## Лучший скор 1 модели"
   ]
  },
  {
   "cell_type": "code",
   "execution_count": 11,
   "metadata": {},
   "outputs": [
    {
     "data": {
      "text/plain": [
       "1.7637930909931399"
      ]
     },
     "execution_count": 11,
     "metadata": {},
     "output_type": "execute_result"
    }
   ],
   "source": [
    "np.max(f1s)*2 + np.max(roc_aucs)*2 - 1"
   ]
  },
  {
   "cell_type": "markdown",
   "metadata": {},
   "source": [
    "## Stacking Logreg для пола "
   ]
  },
  {
   "cell_type": "code",
   "execution_count": 13,
   "metadata": {},
   "outputs": [
    {
     "name": "stderr",
     "output_type": "stream",
     "text": [
      "[Parallel(n_jobs=10)]: Using backend LokyBackend with 10 concurrent workers.\n",
      "[Parallel(n_jobs=10)]: Done   3 out of  10 | elapsed:   12.1s remaining:   28.3s\n",
      "[Parallel(n_jobs=10)]: Done  10 out of  10 | elapsed:   15.3s finished\n"
     ]
    },
    {
     "name": "stdout",
     "output_type": "stream",
     "text": [
      "0.8918029226553036\n",
      "0.8942087044774247\n",
      "0.8932897496369843\n",
      "0.8928045083021292\n",
      "0.8935212828850132\n",
      "0.8931581642824244\n",
      "0.8958370687504125\n",
      "0.8952329401364499\n",
      "0.8934173359008301\n",
      "0.8942469017355863\n",
      "==================================================\n",
      "0.8937529397263528\n"
     ]
    }
   ],
   "source": [
    "lr = \\\n",
    "LogisticRegression(C=1e-2, penalty='l2',\n",
    "                   solver='liblinear', max_iter=10)\n",
    "\n",
    "probs = \\\n",
    "cross_val_predict(lr,\n",
    "                  np.array(all_preds_sex\n",
    "                                 ).T.reshape(-1,\n",
    "                                             len(all_preds_sex)\n",
    "                                            )[all_mask],\n",
    "                  trg_sex.astype(int),\n",
    "                  cv=folds,\n",
    "                  verbose=2,\n",
    "                  n_jobs=len(folds),\n",
    "                  method='predict_proba')[:, 1]\n",
    "\n",
    "lr.fit(np.array(all_preds_sex\n",
    "             ).T.reshape(-1,\n",
    "                         len(all_preds_sex)\n",
    "                        )[all_mask],\n",
    "       trg_sex.astype(int))\n",
    "\n",
    "cv_scores = []\n",
    "for _, test_ind in folds:\n",
    "    probs[test_ind] = probs[test_ind].argsort().argsort() / test_ind.size\n",
    "    cv_score = \\\n",
    "    roc_auc_score(trg_sex[test_ind][trg_sex[test_ind]!=0.5],\n",
    "                        probs[test_ind][trg_sex[test_ind]!=0.5])\n",
    "    cv_scores.append(cv_score)\n",
    "    print(cv_score)\n",
    "\n",
    "print('='*50)\n",
    "\n",
    "print(roc_auc_score(trg_sex[trg_sex!=0.5], probs[trg_sex!=0.5]))"
   ]
  },
  {
   "cell_type": "markdown",
   "metadata": {},
   "source": [
    "## Взвешивание скоров пола по коэффициентам логрега"
   ]
  },
  {
   "cell_type": "code",
   "execution_count": 14,
   "metadata": {},
   "outputs": [],
   "source": [
    "all_preds_sex = lr.coef_.flatten().dot(all_preds_sex)"
   ]
  },
  {
   "cell_type": "markdown",
   "metadata": {},
   "source": [
    "## Stacking One-VS-Rest Ridge для возраста"
   ]
  },
  {
   "cell_type": "code",
   "execution_count": 16,
   "metadata": {},
   "outputs": [
    {
     "name": "stdout",
     "output_type": "stream",
     "text": [
      "(6, 415317, 137)\n"
     ]
    },
    {
     "data": {
      "application/vnd.jupyter.widget-view+json": {
       "model_id": "de473ecc7b26458b92ce9e3306490d6f",
       "version_major": 2,
       "version_minor": 0
      },
      "text/plain": [
       "  0%|          | 0/6 [00:00<?, ?it/s]"
      ]
     },
     "metadata": {},
     "output_type": "display_data"
    },
    {
     "data": {
      "application/vnd.jupyter.widget-view+json": {
       "model_id": "a57751bb4bbd406483593d7e5596d8a8",
       "version_major": 2,
       "version_minor": 0
      },
      "text/plain": [
       "  0%|          | 0/10 [00:00<?, ?it/s]"
      ]
     },
     "metadata": {},
     "output_type": "display_data"
    },
    {
     "data": {
      "application/vnd.jupyter.widget-view+json": {
       "model_id": "a8db46f219c449ec89f3fe61da6ac63a",
       "version_major": 2,
       "version_minor": 0
      },
      "text/plain": [
       "  0%|          | 0/10 [00:00<?, ?it/s]"
      ]
     },
     "metadata": {},
     "output_type": "display_data"
    },
    {
     "data": {
      "application/vnd.jupyter.widget-view+json": {
       "model_id": "39e1254ab5c84cc08185cd26c9f7439c",
       "version_major": 2,
       "version_minor": 0
      },
      "text/plain": [
       "  0%|          | 0/10 [00:00<?, ?it/s]"
      ]
     },
     "metadata": {},
     "output_type": "display_data"
    },
    {
     "data": {
      "application/vnd.jupyter.widget-view+json": {
       "model_id": "a5ddb64d19964e35b996ab11277681e6",
       "version_major": 2,
       "version_minor": 0
      },
      "text/plain": [
       "  0%|          | 0/10 [00:00<?, ?it/s]"
      ]
     },
     "metadata": {},
     "output_type": "display_data"
    },
    {
     "data": {
      "application/vnd.jupyter.widget-view+json": {
       "model_id": "fbfed193ad224370a1b8f00fd76c6f9a",
       "version_major": 2,
       "version_minor": 0
      },
      "text/plain": [
       "  0%|          | 0/10 [00:00<?, ?it/s]"
      ]
     },
     "metadata": {},
     "output_type": "display_data"
    },
    {
     "data": {
      "application/vnd.jupyter.widget-view+json": {
       "model_id": "3457ec720fb84b4d9b58dd97855816cd",
       "version_major": 2,
       "version_minor": 0
      },
      "text/plain": [
       "  0%|          | 0/10 [00:00<?, ?it/s]"
      ]
     },
     "metadata": {},
     "output_type": "display_data"
    },
    {
     "name": "stdout",
     "output_type": "stream",
     "text": [
      "0.49338040839524056\n"
     ]
    }
   ],
   "source": [
    "scipy_tmp = np.array(all_preds_age).T\n",
    "print(scipy_tmp.shape)\n",
    "age_coefs = []\n",
    "age_scores = []\n",
    "\n",
    "scipy_tmp_all = np.array(scipy_tmp).transpose([1, 0, 2]).reshape(all_preds_sex.size, -1)\n",
    "age_probs_cv = np.zeros((all_mask.sum(), len(age_bins)))\n",
    "age_probs_train = np.zeros((all_mask.sum(), len(age_bins)))\n",
    "age_probs_all = np.zeros((all_preds_sex.size, len(age_bins)))\n",
    "\n",
    "for trg_val in tqdm(range(1, 7)):\n",
    "    trg_pair = [trg_val - 1]\n",
    "    age_X_tr = np.concatenate(scipy_tmp[trg_pair].transpose([0, 2, 1]), axis=0).T\n",
    "    for train_ind, test_ind in tqdm(folds):\n",
    "        lr = Ridge(alpha=15,\n",
    "                   fit_intercept=True)\n",
    "\n",
    "        lr.fit(age_X_tr[all_mask][train_ind],\n",
    "               (y_all==trg_val)[train_ind])\n",
    "\n",
    "        tmp_preds = lr.predict(age_X_tr) - lr.intercept_\n",
    "        age_probs_cv[test_ind, trg_val-1] = tmp_preds[all_mask][test_ind]\n",
    "        age_probs_train[train_ind, trg_val-1] = tmp_preds[all_mask][train_ind]\n",
    "        age_probs_all[:, trg_val-1] += tmp_preds\n",
    "\n",
    "cm = confusion_matrix(y_all - 1, age_probs_cv.argmax(axis=1))\n",
    "# распределение бинов возраста в public_lb\n",
    "true_weights = np.array([11.970, 32.675, 28.855, 15.886, 8.643, 1.970]) / 1e2\n",
    "print((2 * np.diag(cm) / (cm.sum(axis=1) + cm.sum(axis=0))).dot(true_weights))"
   ]
  },
  {
   "cell_type": "markdown",
   "metadata": {},
   "source": [
    "## Оценка распределения бинов на private_lb"
   ]
  },
  {
   "cell_type": "code",
   "execution_count": 17,
   "metadata": {},
   "outputs": [
    {
     "data": {
      "text/plain": [
       "(array([0.1197 , 0.32675, 0.28855, 0.15886, 0.08643, 0.0197 ]),\n",
       " array([0.12488519, 0.32322222, 0.28698519, 0.15719259, 0.08733333,\n",
       "        0.02038148]),\n",
       " array([0.12370028, 0.32402931, 0.28734351, 0.15757407, 0.08712706,\n",
       "        0.02022576]))"
      ]
     },
     "execution_count": 17,
     "metadata": {},
     "output_type": "execute_result"
    }
   ],
   "source": [
    "# восстанавливаем границы бинов как они указаны в правилах\n",
    "age_bins_ = age_bins.copy()\n",
    "age_bins_[0] = [19, 25]\n",
    "age_labels, age_cnts = \\\n",
    "np.unique(\n",
    "    np.concatenate([trg_df.age.between(*age_bin).values[:, None] for age_bin in age_bins_],\n",
    "               axis=1).argmax(axis=1)[all_mask],\n",
    "    return_counts=True\n",
    ")\n",
    "# оценка распределения бинов возраста как взвешенная сумма распределений на train и public\n",
    "# в train 270к примеров, по оценке в паблик 80к примеров\n",
    "age_cnts_estimator = \\\n",
    "age_cnts / age_cnts.sum() * 270_000 + true_weights * 80_000\n",
    "\n",
    "true_weights, \\\n",
    "age_cnts / age_cnts.sum(), \\\n",
    "age_cnts_estimator / age_cnts_estimator.sum()"
   ]
  },
  {
   "cell_type": "markdown",
   "metadata": {},
   "source": [
    "## Финальный подбор вектора-смещений, максимизирующий f1_w"
   ]
  },
  {
   "cell_type": "code",
   "execution_count": 24,
   "metadata": {},
   "outputs": [
    {
     "data": {
      "application/vnd.jupyter.widget-view+json": {
       "model_id": "92b3cd7dffba48eda6351d978c21481c",
       "version_major": 2,
       "version_minor": 0
      },
      "text/plain": [
       "  0%|          | 0/2000 [00:00<?, ?it/s]"
      ]
     },
     "metadata": {},
     "output_type": "display_data"
    },
    {
     "name": "stdout",
     "output_type": "stream",
     "text": [
      "0.4908357576361695 [-0.02874765 -0.03408524  0.00556411 -0.0418203   0.00133967 -0.00287613]\n",
      "0.49182633722398944 [-4.34965430e-02 -3.34949068e-02  2.63146731e-05 -3.01812489e-02\n",
      "  5.28102074e-03 -1.23504065e-02]\n",
      "0.4927392314462021 [-0.06045191 -0.03874057 -0.0152765  -0.00653757 -0.01034066 -0.00627375]\n",
      "0.49297593576638843 [-0.05870689 -0.04105045 -0.01174162 -0.00798199 -0.00982969 -0.00546295]\n",
      "0.493005566764838 [-0.05221374 -0.03682986 -0.00980327 -0.0063023  -0.01229111 -0.00620983]\n",
      "0.4930785537628196 [-0.05361593 -0.03813562 -0.01242069 -0.01628108 -0.02326835  0.01082136]\n",
      "0.4932179617459513 [-0.05855348 -0.02456908 -0.01870446 -0.01645858 -0.01892284  0.00987437]\n",
      "0.49330413564395165 [-0.05062976 -0.02345836 -0.02221764 -0.0259574  -0.01351932  0.02017845]\n",
      "0.49343054180720747 [-0.06108646 -0.04699273 -0.02805985 -0.03302649 -0.03484441  0.0443784 ]\n",
      "0.4935964470122288 [-0.05918954 -0.05068    -0.04124891 -0.03784762 -0.03133535  0.0631746 ]\n",
      "0.4937103984587975 [-0.05528023 -0.0452506  -0.04049211 -0.04594914 -0.03428248  0.06578052]\n",
      "0.4936849896772078 [-0.05523344 -0.04526273 -0.04043632 -0.04586733 -0.03422241  0.06591027]\n",
      "0.4936849896772078 [-0.05523344 -0.04526273 -0.04043632 -0.04586733 -0.03422241  0.06591027]\n",
      "0.4936849896772078 [-0.05523344 -0.04526273 -0.04043632 -0.04586733 -0.03422241  0.06591027]\n",
      "0.4936849896772078 [-0.05523344 -0.04526273 -0.04043632 -0.04586733 -0.03422241  0.06591027]\n",
      "0.4936849896772078 [-0.05523344 -0.04526273 -0.04043632 -0.04586733 -0.03422241  0.06591027]\n",
      "0.4936849896772078 [-0.05523344 -0.04526273 -0.04043632 -0.04586733 -0.03422241  0.06591027]\n",
      "0.4936849896772078 [-0.05523344 -0.04526273 -0.04043632 -0.04586733 -0.03422241  0.06591027]\n",
      "0.4936849896772078 [-0.05523344 -0.04526273 -0.04043632 -0.04586733 -0.03422241  0.06591027]\n",
      "0.4936849896772078 [-0.05523344 -0.04526273 -0.04043632 -0.04586733 -0.03422241  0.06591027]\n",
      "0.4936849896772078 [-0.05523344 -0.04526273 -0.04043632 -0.04586733 -0.03422241  0.06591027]\n"
     ]
    }
   ],
   "source": [
    "def maximize_public_f1(bias):\n",
    "    bias = np.round(bias, decimals=4)\n",
    "    cm = confusion_matrix(y_all - 1,\n",
    "                          (age_probs_cv + bias).argmax(axis=1))\n",
    "    true_weights = age_cnts_estimator / age_cnts_estimator.sum()\n",
    "    return -(2 * np.diag(cm) / (cm.sum(axis=1) + cm.sum(axis=0))).dot(true_weights)\n",
    "\n",
    "scipy_eps = 1e-10\n",
    "scipy_res = None\n",
    "bf1 = 0\n",
    "bias = 0.\n",
    "max_iters = 2000\n",
    "# стохастический поиск для инициализации смещения\n",
    "for n_iter in tqdm(range(max_iters)):\n",
    "    x = np.random.normal(size=len(age_bins)) \\\n",
    "        / np.random.choice([50., 100., 150., 200.])\n",
    "    x += bias * (1 + x)\n",
    "    fun = maximize_public_f1(x)\n",
    "    if abs(fun) > bf1:\n",
    "        print(abs(fun), x)\n",
    "        bf1 = abs(fun)\n",
    "        bias = np.round(x, decimals=4)\n",
    "# уточнения смещения с помощью COBYLA\n",
    "for _ in range(10):\n",
    "    scipy_res = minimize(maximize_public_f1,\n",
    "                     bias,\n",
    "                     method='COBYLA')\n",
    "    print(abs(scipy_res.fun), scipy_res.x)\n",
    "    if abs(scipy_res.fun) > bf1:\n",
    "        bf1 = abs(scipy_res.fun)\n",
    "        bias = np.round(scipy_res.x, decimals=4)"
   ]
  },
  {
   "cell_type": "markdown",
   "metadata": {},
   "source": [
    "## Получение бинов возраста"
   ]
  },
  {
   "cell_type": "code",
   "execution_count": 25,
   "metadata": {},
   "outputs": [
    {
     "data": {
      "text/plain": [
       "array([2, 3, 3, ..., 5, 3, 2])"
      ]
     },
     "execution_count": 25,
     "metadata": {},
     "output_type": "execute_result"
    }
   ],
   "source": [
    "all_preds_age_label = (age_probs_all + bias).argmax(axis=1) + 1\n",
    "all_preds_age_label"
   ]
  },
  {
   "cell_type": "markdown",
   "metadata": {},
   "source": [
    "## Скор после stacking'а"
   ]
  },
  {
   "cell_type": "code",
   "execution_count": 27,
   "metadata": {
    "scrolled": true
   },
   "outputs": [
    {
     "data": {
      "text/plain": [
       "1.7749266763703009"
      ]
     },
     "execution_count": 27,
     "metadata": {},
     "output_type": "execute_result"
    }
   ],
   "source": [
    "2 * bf1 + 2 * roc_auc_score(trg_sex[trg_sex!=0.5], probs[trg_sex!=0.5]) - 1"
   ]
  },
  {
   "cell_type": "markdown",
   "metadata": {},
   "source": [
    "## Формирование посылки"
   ]
  },
  {
   "cell_type": "code",
   "execution_count": 28,
   "metadata": {},
   "outputs": [],
   "source": [
    "sample_df = pd.read_csv('baseline_submission_wo_index.csv')\n",
    "sample_df = \\\n",
    "sample_df.merge(pd.DataFrame(dict(user_id=datamap['uids'],\n",
    "                                  idx=np.arange(len(datamap['uids'])))),\n",
    "                how='left')\n",
    "\n",
    "sample_df['is_male'] = all_preds_sex[sample_df.idx.values].argsort().argsort()/sample_df.shape[0]\n",
    "sample_df['age'] = all_preds_age_label[sample_df.idx.values]\n",
    "sample_df = \\\n",
    "sample_df.sort_values(by='user_id').\\\n",
    "          drop('idx', axis=1)\n",
    "\n",
    "sample_df.\\\n",
    "    to_csv('20230329r_submission_wo_index.csv',\n",
    "           sep=',',\n",
    "           index=False)"
   ]
  }
 ],
 "metadata": {
  "kernelspec": {
   "display_name": "Python 3",
   "language": "python",
   "name": "python3"
  },
  "language_info": {
   "codemirror_mode": {
    "name": "ipython",
    "version": 3
   },
   "file_extension": ".py",
   "mimetype": "text/x-python",
   "name": "python",
   "nbconvert_exporter": "python",
   "pygments_lexer": "ipython3",
   "version": "3.7.3"
  }
 },
 "nbformat": 4,
 "nbformat_minor": 2
}
